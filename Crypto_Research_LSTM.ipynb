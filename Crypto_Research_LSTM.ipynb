{
  "cells": [
    {
      "cell_type": "markdown",
      "metadata": {
        "id": "view-in-github",
        "colab_type": "text"
      },
      "source": [
        "<a href=\"https://colab.research.google.com/github/PRAGYAMISHRA04/Time-series-analysis/blob/main/Crypto_Research_LSTM.ipynb\" target=\"_parent\"><img src=\"https://colab.research.google.com/assets/colab-badge.svg\" alt=\"Open In Colab\"/></a>"
      ]
    },
    {
      "cell_type": "markdown",
      "metadata": {
        "id": "2v1yohuvDb17"
      },
      "source": [
        "#**Importing Libraries**"
      ]
    },
    {
      "cell_type": "code",
      "execution_count": 1,
      "metadata": {
        "id": "-OqaIIYSC3bb",
        "colab": {
          "base_uri": "https://localhost:8080/"
        },
        "outputId": "72666ffb-30bf-4697-d462-bd913e72f8ca"
      },
      "outputs": [
        {
          "output_type": "stream",
          "name": "stdout",
          "text": [
            "Mounted at /content/drive\n"
          ]
        }
      ],
      "source": [
        "\"\"\"! pip install kaggle\n",
        "! mkdir ~/.kaggle\n",
        "! cp kaggle.json ~/.kaggle/\n",
        "! chmod 600 ~/.kaggle/kaggle.json\n",
        "! kaggle competitions download g-research-crypto-forecasting\"\"\"\n",
        "from google.colab import drive\n",
        "drive.mount('/content/drive',force_remount=True)"
      ]
    },
    {
      "cell_type": "code",
      "execution_count": 2,
      "metadata": {
        "id": "extGt9NJcZfU",
        "colab": {
          "base_uri": "https://localhost:8080/"
        },
        "outputId": "0b82c81f-3953-4bfe-9016-3ba7966ce4a5"
      },
      "outputs": [
        {
          "output_type": "stream",
          "name": "stdout",
          "text": [
            "Archive:  /content/drive/MyDrive/Crypto-research/train.csv (1).zip\n",
            "replace train.csv? [y]es, [n]o, [A]ll, [N]one, [r]ename: N\n"
          ]
        }
      ],
      "source": [
        "! unzip \"/content/drive/MyDrive/Crypto-research/train.csv (1).zip\""
      ]
    },
    {
      "cell_type": "code",
      "execution_count": 3,
      "metadata": {
        "id": "AWlLF_3Kcd-g"
      },
      "outputs": [],
      "source": [
        "from tensorflow.keras.layers import Masking, Concatenate, Add, GRU, GlobalAveragePooling1D, GlobalAvgPool1D, Dense, Dropout, Input, Bidirectional, LSTM, Conv1D, Multiply \n",
        "import pandas as pd\n",
        "import numpy as np\n",
        "import seaborn as sns\n",
        "from sklearn.preprocessing import MinMaxScaler, StandardScaler\n",
        "import matplotlib.pyplot as plt\n",
        "import tensorflow as tf\n",
        "from tensorflow.keras.layers import Activation\n",
        "from tensorflow.keras.metrics import RootMeanSquaredError, MeanAbsolutePercentageError , MeanSquaredError\n",
        "from keras.utils.generic_utils import get_custom_objects\n",
        "import math as m\n",
        "import time\n",
        "import gc\n",
        "import os\n",
        "import tensorflow.keras.backend as K\n",
        "from tensorflow.keras.models import Sequential"
      ]
    },
    {
      "cell_type": "code",
      "execution_count": 4,
      "metadata": {
        "id": "mk4h7BqnyQYa"
      },
      "outputs": [],
      "source": [
        "\"\"\"def act_bipolar(x):\n",
        "    '''Bipolar'''\n",
        "    return ((1-tf.math.exp(-x)) / (1+tf.math.exp(-x)))\n",
        "def act_SiLU(x):\n",
        "    '''SiLU'''\n",
        "    return (x/(1+tf.math.exp(-x)))\n",
        "def act_softplus(x):\n",
        "    '''Softplus'''\n",
        "    return tf.nn.softplus(x)\n",
        "\n",
        "\"\"\"\n",
        "def act_LRELU(x):\n",
        "  '''Leaky RELU'''\n",
        "  return tf.nn.leaky_relu(x)\n",
        "\"\"\"\n",
        "def act_swish(x):\n",
        "   '''Swish'''\n",
        "   return x * tf.sigmoid(x)\n",
        "\"\"\"\n",
        "def act_Mcubic(x):\n",
        "    '''Monotonic Cubic'''\n",
        "    return (tf.math.pow(x,3) + x)\n",
        "\n",
        "def act_NMcubic(x):\n",
        "    '''Non Monotonic Cubic'''\n",
        "    return (x - tf.math.pow(x,3))\n",
        "\n",
        "def act_DSU(x):\n",
        "    '''Decaying Sine Unit'''\n",
        "    return (tf.constant(m.pi)/2)*(tf.experimental.numpy.sinc(x-tf.constant(m.pi)) - tf.experimental.numpy.sinc(x+tf.constant(m.pi))) \n",
        "\n",
        "def act_GCU(x):\n",
        "    '''Growing Cosine Unit'''\n",
        "    return x*tf.cos(x)\n",
        "\n",
        "def act_shiftedSinc(x):\n",
        "    '''Shifted Sinc'''\n",
        "    return tf.constant(m.pi)*tf.experimental.numpy.sinc(x-tf.constant(m.pi))\n",
        "\n",
        "def act_z2cosz(x):\n",
        "  ''' x2cos(x)'''\n",
        "  return x*x*tf.cos(x)\n",
        "\n",
        "def act_sinz(x):\n",
        "  ''' sin(x)'''\n",
        "  return tf.sin(x)\n",
        "\n",
        "\n",
        "\"\"\"\n",
        "def act_Mish(x):\n",
        "  '''Mish'''\n",
        "  return x*tf.tanh(tf.math.log(1+tf.math.exp(x)))\n",
        "\n",
        "def act_GELU(x):\n",
        "  '''GELU'''\n",
        "  return tf.keras.activations.gelu(x)\n",
        "\"\"\"\n",
        "def act_Shifted_Quadratic(x):\n",
        "  '''Shifted Quadratic'''\n",
        "  return (tf.math.pow(x,2) + x)\n",
        "  \n",
        "#get_custom_objects().update({'bipolar': Activation(act_bipolar)})\n",
        "#get_custom_objects().update({'silu': Activation(act_SiLU)})\n",
        "#get_custom_objects().update({'softplus': Activation(act_softplus)})\n",
        "get_custom_objects().update({'lrelu': Activation(act_LRELU)})\n",
        "#get_custom_objects().update({'swish': Activation(act_swish)})\n",
        "get_custom_objects().update({'mcubic': Activation(act_Mcubic)})\n",
        "get_custom_objects().update({'nmcubic': Activation(act_NMcubic)})\n",
        "get_custom_objects().update({'dsu': Activation(act_DSU)})\n",
        "get_custom_objects().update({'gcu': act_GCU})\n",
        "get_custom_objects().update({'shiftedsinc': Activation(act_shiftedSinc)})\n",
        "#get_custom_objects().update({'mish': Activation(act_Mish)})\n",
        "#get_custom_objects().update({'gelu': Activation(act_GELU)})\n",
        "get_custom_objects().update({'shiftedquadratic': Activation(act_Shifted_Quadratic)})\n",
        "get_custom_objects().update({'z2cosz': Activation(act_z2cosz)})\n",
        "get_custom_objects().update({'sin': Activation(act_sinz)})\n",
        "class TimeCalcCallback(tf.keras.callbacks.Callback):\n",
        "    def on_epoch_begin(self, epoch, logs=None):\n",
        "        self.epoch_time_start = time.time()    \n",
        "    def on_epoch_end(self, epoch, logs=None):\n",
        "        times.append(time.time() - self.epoch_time_start)"
      ]
    },
    {
      "cell_type": "markdown",
      "metadata": {
        "id": "WwVrXgYADiw-"
      },
      "source": [
        "#**Importing Data**"
      ]
    },
    {
      "cell_type": "code",
      "execution_count": 5,
      "metadata": {
        "id": "4Y2d0TKJDpED",
        "colab": {
          "base_uri": "https://localhost:8080/",
          "height": 206
        },
        "outputId": "6d04457b-6d13-491a-f28b-ba714a984b94"
      },
      "outputs": [
        {
          "output_type": "execute_result",
          "data": {
            "text/plain": [
              "    timestamp  Asset_ID  Count        Open        High         Low  \\\n",
              "0  1514764860         2   40.0   2376.5800   2399.5000   2357.1400   \n",
              "1  1514764860         0    5.0      8.5300      8.5300      8.5300   \n",
              "2  1514764860         1  229.0  13835.1940  14013.8000  13666.1100   \n",
              "3  1514764860         5   32.0      7.6596      7.6596      7.6567   \n",
              "4  1514764860         7    5.0     25.9200     25.9200     25.8740   \n",
              "\n",
              "        Close       Volume          VWAP    Target  \n",
              "0   2374.5900    19.233005   2373.116392 -0.004218  \n",
              "1      8.5300    78.380000      8.530000 -0.014399  \n",
              "2  13850.1760    31.550062  13827.062093 -0.014643  \n",
              "3      7.6576  6626.713370      7.657713 -0.013922  \n",
              "4     25.8770   121.087310     25.891363 -0.008264  "
            ],
            "text/html": [
              "\n",
              "  <div id=\"df-4155e9b8-0761-4235-bb1e-31d2f2b5acd7\">\n",
              "    <div class=\"colab-df-container\">\n",
              "      <div>\n",
              "<style scoped>\n",
              "    .dataframe tbody tr th:only-of-type {\n",
              "        vertical-align: middle;\n",
              "    }\n",
              "\n",
              "    .dataframe tbody tr th {\n",
              "        vertical-align: top;\n",
              "    }\n",
              "\n",
              "    .dataframe thead th {\n",
              "        text-align: right;\n",
              "    }\n",
              "</style>\n",
              "<table border=\"1\" class=\"dataframe\">\n",
              "  <thead>\n",
              "    <tr style=\"text-align: right;\">\n",
              "      <th></th>\n",
              "      <th>timestamp</th>\n",
              "      <th>Asset_ID</th>\n",
              "      <th>Count</th>\n",
              "      <th>Open</th>\n",
              "      <th>High</th>\n",
              "      <th>Low</th>\n",
              "      <th>Close</th>\n",
              "      <th>Volume</th>\n",
              "      <th>VWAP</th>\n",
              "      <th>Target</th>\n",
              "    </tr>\n",
              "  </thead>\n",
              "  <tbody>\n",
              "    <tr>\n",
              "      <th>0</th>\n",
              "      <td>1514764860</td>\n",
              "      <td>2</td>\n",
              "      <td>40.0</td>\n",
              "      <td>2376.5800</td>\n",
              "      <td>2399.5000</td>\n",
              "      <td>2357.1400</td>\n",
              "      <td>2374.5900</td>\n",
              "      <td>19.233005</td>\n",
              "      <td>2373.116392</td>\n",
              "      <td>-0.004218</td>\n",
              "    </tr>\n",
              "    <tr>\n",
              "      <th>1</th>\n",
              "      <td>1514764860</td>\n",
              "      <td>0</td>\n",
              "      <td>5.0</td>\n",
              "      <td>8.5300</td>\n",
              "      <td>8.5300</td>\n",
              "      <td>8.5300</td>\n",
              "      <td>8.5300</td>\n",
              "      <td>78.380000</td>\n",
              "      <td>8.530000</td>\n",
              "      <td>-0.014399</td>\n",
              "    </tr>\n",
              "    <tr>\n",
              "      <th>2</th>\n",
              "      <td>1514764860</td>\n",
              "      <td>1</td>\n",
              "      <td>229.0</td>\n",
              "      <td>13835.1940</td>\n",
              "      <td>14013.8000</td>\n",
              "      <td>13666.1100</td>\n",
              "      <td>13850.1760</td>\n",
              "      <td>31.550062</td>\n",
              "      <td>13827.062093</td>\n",
              "      <td>-0.014643</td>\n",
              "    </tr>\n",
              "    <tr>\n",
              "      <th>3</th>\n",
              "      <td>1514764860</td>\n",
              "      <td>5</td>\n",
              "      <td>32.0</td>\n",
              "      <td>7.6596</td>\n",
              "      <td>7.6596</td>\n",
              "      <td>7.6567</td>\n",
              "      <td>7.6576</td>\n",
              "      <td>6626.713370</td>\n",
              "      <td>7.657713</td>\n",
              "      <td>-0.013922</td>\n",
              "    </tr>\n",
              "    <tr>\n",
              "      <th>4</th>\n",
              "      <td>1514764860</td>\n",
              "      <td>7</td>\n",
              "      <td>5.0</td>\n",
              "      <td>25.9200</td>\n",
              "      <td>25.9200</td>\n",
              "      <td>25.8740</td>\n",
              "      <td>25.8770</td>\n",
              "      <td>121.087310</td>\n",
              "      <td>25.891363</td>\n",
              "      <td>-0.008264</td>\n",
              "    </tr>\n",
              "  </tbody>\n",
              "</table>\n",
              "</div>\n",
              "      <button class=\"colab-df-convert\" onclick=\"convertToInteractive('df-4155e9b8-0761-4235-bb1e-31d2f2b5acd7')\"\n",
              "              title=\"Convert this dataframe to an interactive table.\"\n",
              "              style=\"display:none;\">\n",
              "        \n",
              "  <svg xmlns=\"http://www.w3.org/2000/svg\" height=\"24px\"viewBox=\"0 0 24 24\"\n",
              "       width=\"24px\">\n",
              "    <path d=\"M0 0h24v24H0V0z\" fill=\"none\"/>\n",
              "    <path d=\"M18.56 5.44l.94 2.06.94-2.06 2.06-.94-2.06-.94-.94-2.06-.94 2.06-2.06.94zm-11 1L8.5 8.5l.94-2.06 2.06-.94-2.06-.94L8.5 2.5l-.94 2.06-2.06.94zm10 10l.94 2.06.94-2.06 2.06-.94-2.06-.94-.94-2.06-.94 2.06-2.06.94z\"/><path d=\"M17.41 7.96l-1.37-1.37c-.4-.4-.92-.59-1.43-.59-.52 0-1.04.2-1.43.59L10.3 9.45l-7.72 7.72c-.78.78-.78 2.05 0 2.83L4 21.41c.39.39.9.59 1.41.59.51 0 1.02-.2 1.41-.59l7.78-7.78 2.81-2.81c.8-.78.8-2.07 0-2.86zM5.41 20L4 18.59l7.72-7.72 1.47 1.35L5.41 20z\"/>\n",
              "  </svg>\n",
              "      </button>\n",
              "      \n",
              "  <style>\n",
              "    .colab-df-container {\n",
              "      display:flex;\n",
              "      flex-wrap:wrap;\n",
              "      gap: 12px;\n",
              "    }\n",
              "\n",
              "    .colab-df-convert {\n",
              "      background-color: #E8F0FE;\n",
              "      border: none;\n",
              "      border-radius: 50%;\n",
              "      cursor: pointer;\n",
              "      display: none;\n",
              "      fill: #1967D2;\n",
              "      height: 32px;\n",
              "      padding: 0 0 0 0;\n",
              "      width: 32px;\n",
              "    }\n",
              "\n",
              "    .colab-df-convert:hover {\n",
              "      background-color: #E2EBFA;\n",
              "      box-shadow: 0px 1px 2px rgba(60, 64, 67, 0.3), 0px 1px 3px 1px rgba(60, 64, 67, 0.15);\n",
              "      fill: #174EA6;\n",
              "    }\n",
              "\n",
              "    [theme=dark] .colab-df-convert {\n",
              "      background-color: #3B4455;\n",
              "      fill: #D2E3FC;\n",
              "    }\n",
              "\n",
              "    [theme=dark] .colab-df-convert:hover {\n",
              "      background-color: #434B5C;\n",
              "      box-shadow: 0px 1px 3px 1px rgba(0, 0, 0, 0.15);\n",
              "      filter: drop-shadow(0px 1px 2px rgba(0, 0, 0, 0.3));\n",
              "      fill: #FFFFFF;\n",
              "    }\n",
              "  </style>\n",
              "\n",
              "      <script>\n",
              "        const buttonEl =\n",
              "          document.querySelector('#df-4155e9b8-0761-4235-bb1e-31d2f2b5acd7 button.colab-df-convert');\n",
              "        buttonEl.style.display =\n",
              "          google.colab.kernel.accessAllowed ? 'block' : 'none';\n",
              "\n",
              "        async function convertToInteractive(key) {\n",
              "          const element = document.querySelector('#df-4155e9b8-0761-4235-bb1e-31d2f2b5acd7');\n",
              "          const dataTable =\n",
              "            await google.colab.kernel.invokeFunction('convertToInteractive',\n",
              "                                                     [key], {});\n",
              "          if (!dataTable) return;\n",
              "\n",
              "          const docLinkHtml = 'Like what you see? Visit the ' +\n",
              "            '<a target=\"_blank\" href=https://colab.research.google.com/notebooks/data_table.ipynb>data table notebook</a>'\n",
              "            + ' to learn more about interactive tables.';\n",
              "          element.innerHTML = '';\n",
              "          dataTable['output_type'] = 'display_data';\n",
              "          await google.colab.output.renderOutput(dataTable, element);\n",
              "          const docLink = document.createElement('div');\n",
              "          docLink.innerHTML = docLinkHtml;\n",
              "          element.appendChild(docLink);\n",
              "        }\n",
              "      </script>\n",
              "    </div>\n",
              "  </div>\n",
              "  "
            ]
          },
          "metadata": {},
          "execution_count": 5
        }
      ],
      "source": [
        "dataset=pd.read_csv(\"train.csv\")\n",
        "dataset.head()"
      ]
    },
    {
      "cell_type": "code",
      "execution_count": 6,
      "metadata": {
        "id": "Zht8jFdzdCAF",
        "colab": {
          "base_uri": "https://localhost:8080/"
        },
        "outputId": "3964275d-7c99-40ac-e48f-aa4dbf95605c"
      },
      "outputs": [
        {
          "output_type": "stream",
          "name": "stdout",
          "text": [
            "<class 'pandas.core.frame.DataFrame'>\n",
            "RangeIndex: 24236806 entries, 0 to 24236805\n",
            "Data columns (total 10 columns):\n",
            " #   Column     Dtype  \n",
            "---  ------     -----  \n",
            " 0   timestamp  int64  \n",
            " 1   Asset_ID   int64  \n",
            " 2   Count      float64\n",
            " 3   Open       float64\n",
            " 4   High       float64\n",
            " 5   Low        float64\n",
            " 6   Close      float64\n",
            " 7   Volume     float64\n",
            " 8   VWAP       float64\n",
            " 9   Target     float64\n",
            "dtypes: float64(8), int64(2)\n",
            "memory usage: 1.8 GB\n"
          ]
        }
      ],
      "source": [
        "dataset.info()"
      ]
    },
    {
      "cell_type": "markdown",
      "metadata": {
        "id": "qetScfObDps6"
      },
      "source": [
        "#**Data Preprocessing**"
      ]
    },
    {
      "cell_type": "code",
      "execution_count": 7,
      "metadata": {
        "id": "vKo4yTpSDweF",
        "colab": {
          "base_uri": "https://localhost:8080/"
        },
        "outputId": "62e04687-3e5c-40de-8bfc-40cc980ccfae"
      },
      "outputs": [
        {
          "output_type": "execute_result",
          "data": {
            "text/plain": [
              "(1956282, 10)"
            ]
          },
          "metadata": {},
          "execution_count": 7
        }
      ],
      "source": [
        "df=dataset.groupby(\"Asset_ID\")\n",
        "bitcoin_data=df.get_group(1)\n",
        "bitcoin_data.shape"
      ]
    },
    {
      "cell_type": "code",
      "execution_count": 8,
      "metadata": {
        "id": "gYZ85QpjdH3E",
        "colab": {
          "base_uri": "https://localhost:8080/"
        },
        "outputId": "165c7d5e-ec1d-45f3-ef3a-d1c64cae1481"
      },
      "outputs": [
        {
          "output_type": "stream",
          "name": "stdout",
          "text": [
            "train: (1565025,)\n",
            "valid: (195628,)\n",
            "test: (195629,)\n"
          ]
        }
      ],
      "source": [
        "bitcoin_data=bitcoin_data.drop(['Asset_ID'],axis=1)\n",
        "data=bitcoin_data['VWAP']\n",
        "size=data.shape[0]\n",
        "train_size=m.floor(0.8*size)\n",
        "val_size=m.floor(0.1*size)\n",
        "train_data= data[: train_size] \n",
        "val_data = data[train_size: train_size+val_size ]\n",
        "test_data = data[train_size+val_size:]\n",
        "print('train:',train_data.shape)\n",
        "print('valid:',val_data.shape)\n",
        "print('test:',test_data.shape)"
      ]
    },
    {
      "cell_type": "code",
      "execution_count": 9,
      "metadata": {
        "id": "tIPswcGddVBh"
      },
      "outputs": [],
      "source": [
        "Scaler=MinMaxScaler()\n",
        "train_data=Scaler.fit_transform(np.array(train_data).reshape(-1,1))\n",
        "test_data=Scaler.transform(np.array(test_data).reshape(-1,1))\n",
        "val_data=Scaler.transform(np.array(val_data).reshape(-1,1))"
      ]
    },
    {
      "cell_type": "code",
      "execution_count": 10,
      "metadata": {
        "id": "Sw4O1m-zdHwq"
      },
      "outputs": [],
      "source": [
        "def create_dataset(dataset, time_step=1):\n",
        "    dataX, dataY = [], []\n",
        "    for i in range(len(dataset)-time_step-1):\n",
        "        a = dataset[i:(i+time_step)]   \n",
        "        dataX.append(a)\n",
        "        dataY.append(dataset[i + time_step])\n",
        "    return np.array(dataX), np.array(dataY)"
      ]
    },
    {
      "cell_type": "code",
      "execution_count": 11,
      "metadata": {
        "id": "ZBgVnv00dHnp"
      },
      "outputs": [],
      "source": [
        "train_X,train_Y = create_dataset(train_data,100)\n",
        "val_X,val_Y=create_dataset(val_data,100)\n",
        "test_X,test_Y=create_dataset(np.array(test_data),100)\n",
        "train_X=train_X.reshape(train_X.shape[0],train_X.shape[1] , 1)\n",
        "val_X = val_X.reshape(val_X.shape[0],val_X.shape[1] , 1)"
      ]
    },
    {
      "cell_type": "code",
      "execution_count": 12,
      "metadata": {
        "id": "9R70EcIcdfAn",
        "colab": {
          "base_uri": "https://localhost:8080/"
        },
        "outputId": "fa7822da-3f66-4403-b086-60fafd4b6d2a"
      },
      "outputs": [
        {
          "output_type": "stream",
          "name": "stdout",
          "text": [
            "train: (1564924, 100, 1)\n",
            "valid: (195527, 100, 1)\n",
            "test: (195528, 100, 1)\n"
          ]
        }
      ],
      "source": [
        "print('train:',train_X.shape)\n",
        "print('valid:',val_X.shape)\n",
        "print('test:',test_X.shape)"
      ]
    },
    {
      "cell_type": "markdown",
      "metadata": {
        "id": "FE5X4RKRDz6C"
      },
      "source": [
        "\n",
        "#**Model : LSTM**"
      ]
    },
    {
      "cell_type": "code",
      "execution_count": 13,
      "metadata": {
        "id": "uqE7_7zifvPk"
      },
      "outputs": [],
      "source": [
        "def build_model(activations,shapes,optimizers):\n",
        "  K.clear_session()\n",
        "  model=Sequential()\n",
        "  model.add(Masking(mask_value=0.0,input_shape=(shapes[0],shapes[1])))\n",
        "  model.add(LSTM(32,return_sequences=True))\n",
        "  model.add(Activation(activations[0]))\n",
        "  model.add(GlobalAveragePooling1D())\n",
        "  model.add(Dense(256,activation='lrelu'))\n",
        "  model.add(Dense(128,activation='lrelu'))\n",
        "  model.add(Dense(1))\n",
        "  model.compile(loss='mean_squared_error',optimizer=optimizers,metrics=['mean_absolute_percentage_error','mean_squared_error'])\n",
        "  return model"
      ]
    },
    {
      "cell_type": "code",
      "execution_count": 14,
      "metadata": {
        "id": "tzKx_lKjyzT9"
      },
      "outputs": [],
      "source": [
        "def train_and_test_model(activations,shapes,optimizers,i):\n",
        "  test_metrics={}\n",
        "  #checkpoint_path = \"/content/model_{}/cp-{epoch:04d}.hd5\".format(activations,epoch=0)\n",
        "  #checkpoint_dir = os.path.dirname(checkpoint_path)\n",
        "  #checkpoint=ModelCheckpoint(checkpoint_path.format(), monitor='val_mean_squared_error', verbose=0, save_best_only=False)\n",
        "  #early=EarlyStopping(monitor='val_mean_squared_error', min_delta=0, patience=10, verbose=0, mode='auto')\n",
        "  model=build_model(activations,shapes,optimizers) #,optimizer,activations\n",
        "  history=model.fit(x=train_X,y=train_Y,\n",
        "                    validation_data=(val_X,val_Y),\n",
        "                    epochs=5,batch_size=1024,\n",
        "                    callbacks=[TimeCalcCallback()]) #checkpoint,early,         \n",
        "  history = history.history\n",
        "  model_eval=model.evaluate(test_X,test_Y,return_dict=True)\n",
        "  p_test = model.predict(test_X)\n",
        "  y_test_ = test_Y\n",
        "  history.update({'activation_functions':len(history['val_mean_absolute_percentage_error'])*[activations],'epochs':list(range(1,len(history['val_mean_absolute_percentage_error'])+1))})\n",
        "  data_list_test.append([activations,model_eval['mean_absolute_percentage_error'],model_eval['mean_squared_error']])\n",
        "  del model\n",
        "  return history"
      ]
    },
    {
      "cell_type": "code",
      "execution_count": 15,
      "metadata": {
        "id": "M1hOTK05zNRD"
      },
      "outputs": [],
      "source": [
        "shapes=[train_X.shape[1],train_X.shape[2]]\n",
        "activation_strs=['mcubic','gcu','dsu','shiftedquadratic','nmcubic','shiftedsinc','z2cosz','sin']\n",
        "data_list_test=[]\n",
        "data_list=[]\n",
        "i=0"
      ]
    },
    {
      "cell_type": "code",
      "execution_count": null,
      "metadata": {
        "colab": {
          "base_uri": "https://localhost:8080/"
        },
        "id": "XWxLiHrtzT5e",
        "outputId": "55d8c9a0-1171-4cf3-9509-714a9c0d8d38"
      },
      "outputs": [
        {
          "output_type": "stream",
          "name": "stdout",
          "text": [
            " Activation Layer :  mcubic\n",
            "Epoch 1/5\n",
            "1529/1529 [==============================] - 653s 424ms/step - loss: 2.2888e-04 - mean_absolute_percentage_error: 4.1267 - mean_squared_error: 2.2888e-04 - val_loss: 0.0339 - val_mean_absolute_percentage_error: 6.1147 - val_mean_squared_error: 0.0339\n",
            "Epoch 2/5\n",
            "1529/1529 [==============================] - 666s 436ms/step - loss: 8.3287e-06 - mean_absolute_percentage_error: 1.8853 - mean_squared_error: 8.3287e-06 - val_loss: 0.0278 - val_mean_absolute_percentage_error: 5.5008 - val_mean_squared_error: 0.0278\n",
            "Epoch 3/5\n",
            "1529/1529 [==============================] - 668s 437ms/step - loss: 9.6537e-06 - mean_absolute_percentage_error: 2.8349 - mean_squared_error: 9.6537e-06 - val_loss: 0.0208 - val_mean_absolute_percentage_error: 4.7314 - val_mean_squared_error: 0.0208\n",
            "Epoch 4/5\n",
            "1529/1529 [==============================] - 660s 432ms/step - loss: 1.0179e-05 - mean_absolute_percentage_error: 1.9199 - mean_squared_error: 1.0179e-05 - val_loss: 0.0197 - val_mean_absolute_percentage_error: 4.7990 - val_mean_squared_error: 0.0197\n",
            "Epoch 5/5\n",
            "1529/1529 [==============================] - 661s 432ms/step - loss: 9.8799e-06 - mean_absolute_percentage_error: 1.5693 - mean_squared_error: 9.8799e-06 - val_loss: 0.0094 - val_mean_absolute_percentage_error: 3.1806 - val_mean_squared_error: 0.0094\n",
            "6111/6111 [==============================] - 105s 17ms/step - loss: 0.0018 - mean_absolute_percentage_error: 1.4723 - mean_squared_error: 0.0018\n",
            " Activation Layer :  gcu\n",
            "Epoch 1/5\n",
            "1529/1529 [==============================] - 655s 425ms/step - loss: 2.0116e-04 - mean_absolute_percentage_error: 3.4325 - mean_squared_error: 2.0116e-04 - val_loss: 0.1567 - val_mean_absolute_percentage_error: 14.0029 - val_mean_squared_error: 0.1567\n",
            "Epoch 2/5\n",
            "1529/1529 [==============================] - 647s 423ms/step - loss: 8.1327e-06 - mean_absolute_percentage_error: 2.1865 - mean_squared_error: 8.1327e-06 - val_loss: 0.1197 - val_mean_absolute_percentage_error: 12.0344 - val_mean_squared_error: 0.1197\n",
            "Epoch 3/5\n",
            "1529/1529 [==============================] - 687s 449ms/step - loss: 9.2199e-06 - mean_absolute_percentage_error: 2.0108 - mean_squared_error: 9.2199e-06 - val_loss: 0.1048 - val_mean_absolute_percentage_error: 11.2352 - val_mean_squared_error: 0.1048\n",
            "Epoch 4/5\n",
            "1529/1529 [==============================] - 652s 426ms/step - loss: 9.9610e-06 - mean_absolute_percentage_error: 2.4805 - mean_squared_error: 9.9610e-06 - val_loss: 0.0867 - val_mean_absolute_percentage_error: 10.2883 - val_mean_squared_error: 0.0867\n",
            "Epoch 5/5\n",
            "1529/1529 [==============================] - 644s 421ms/step - loss: 9.7410e-06 - mean_absolute_percentage_error: 2.8278 - mean_squared_error: 9.7410e-06 - val_loss: 0.0623 - val_mean_absolute_percentage_error: 8.5481 - val_mean_squared_error: 0.0623\n",
            "6111/6111 [==============================] - 96s 16ms/step - loss: 0.0164 - mean_absolute_percentage_error: 5.1088 - mean_squared_error: 0.0164\n",
            " Activation Layer :  dsu\n",
            "Epoch 1/5\n",
            "1529/1529 [==============================] - 820s 533ms/step - loss: 2.6961e-04 - mean_absolute_percentage_error: 3.3614 - mean_squared_error: 2.6961e-04 - val_loss: 0.2579 - val_mean_absolute_percentage_error: 17.4225 - val_mean_squared_error: 0.2579\n",
            "Epoch 2/5\n",
            " 597/1529 [==========>...................] - ETA: 7:58 - loss: 8.0076e-06 - mean_absolute_percentage_error: 2.7694 - mean_squared_error: 8.0076e-06"
          ]
        }
      ],
      "source": [
        "while i<8:\n",
        "  print(\" Activation Layer : \",activation_strs[i])\n",
        "  activations=[activation_strs[i]]\n",
        "  times = []\n",
        "  history_ = train_and_test_model(activations,shapes,'adam',i)\n",
        "  history_.update({'time_taken_on_epoch':times})\n",
        "  data_list.append(pd.DataFrame(history_))\n",
        "  gc.collect()\n",
        "  i+=1"
      ]
    },
    {
      "cell_type": "code",
      "execution_count": null,
      "metadata": {
        "id": "NktPisOIy1gh"
      },
      "outputs": [],
      "source": [
        ""
      ]
    }
  ],
  "metadata": {
    "colab": {
      "collapsed_sections": [],
      "name": "Crypto-Research-LSTM.ipynb",
      "provenance": [],
      "authorship_tag": "ABX9TyPgIaWQI4KaF40RdY/Rs1Sn",
      "include_colab_link": true
    },
    "kernelspec": {
      "display_name": "Python 3",
      "name": "python3"
    },
    "language_info": {
      "name": "python"
    }
  },
  "nbformat": 4,
  "nbformat_minor": 0
}