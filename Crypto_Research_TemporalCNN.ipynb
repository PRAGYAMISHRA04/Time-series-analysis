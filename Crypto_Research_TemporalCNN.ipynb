{
  "nbformat": 4,
  "nbformat_minor": 0,
  "metadata": {
    "colab": {
      "name": "Crypto-Research-TemporalCNN.ipynb",
      "provenance": [],
      "collapsed_sections": [],
      "machine_shape": "hm",
      "background_execution": "on",
      "include_colab_link": true
    },
    "kernelspec": {
      "name": "python3",
      "display_name": "Python 3"
    },
    "language_info": {
      "name": "python"
    },
    "accelerator": "TPU"
  },
  "cells": [
    {
      "cell_type": "markdown",
      "metadata": {
        "id": "view-in-github",
        "colab_type": "text"
      },
      "source": [
        "<a href=\"https://colab.research.google.com/github/PRAGYAMISHRA04/Time-series-analysis/blob/main/Crypto_Research_TemporalCNN.ipynb\" target=\"_parent\"><img src=\"https://colab.research.google.com/assets/colab-badge.svg\" alt=\"Open In Colab\"/></a>"
      ]
    },
    {
      "cell_type": "code",
      "source": [
        "import tensorflow as tf\n",
        "import os\n",
        "resolver = tf.distribute.cluster_resolver.TPUClusterResolver(tpu='grpc://' + os.environ['COLAB_TPU_ADDR'])\n",
        "tf.config.experimental_connect_to_cluster(resolver)\n",
        "tf.tpu.experimental.initialize_tpu_system(resolver)"
      ],
      "metadata": {
        "colab": {
          "base_uri": "https://localhost:8080/"
        },
        "id": "gHdHrA7PbR7S",
        "outputId": "ba928de5-5565-48ff-f782-97b763c79120"
      },
      "execution_count": 1,
      "outputs": [
        {
          "output_type": "stream",
          "name": "stdout",
          "text": [
            "INFO:tensorflow:Deallocate tpu buffers before initializing tpu system.\n"
          ]
        },
        {
          "output_type": "stream",
          "name": "stderr",
          "text": [
            "INFO:tensorflow:Deallocate tpu buffers before initializing tpu system.\n"
          ]
        },
        {
          "output_type": "stream",
          "name": "stdout",
          "text": [
            "INFO:tensorflow:Initializing the TPU system: grpc://10.37.15.58:8470\n"
          ]
        },
        {
          "output_type": "stream",
          "name": "stderr",
          "text": [
            "INFO:tensorflow:Initializing the TPU system: grpc://10.37.15.58:8470\n"
          ]
        },
        {
          "output_type": "stream",
          "name": "stdout",
          "text": [
            "INFO:tensorflow:Finished initializing TPU system.\n"
          ]
        },
        {
          "output_type": "stream",
          "name": "stderr",
          "text": [
            "INFO:tensorflow:Finished initializing TPU system.\n"
          ]
        },
        {
          "output_type": "execute_result",
          "data": {
            "text/plain": [
              "<tensorflow.python.tpu.topology.Topology at 0x7eff72debb50>"
            ]
          },
          "metadata": {},
          "execution_count": 1
        }
      ]
    },
    {
      "cell_type": "markdown",
      "source": [
        "#**Importing Libraries**"
      ],
      "metadata": {
        "id": "2v1yohuvDb17"
      }
    },
    {
      "cell_type": "code",
      "source": [
        "\"\"\"! pip install kaggle\n",
        "! mkdir ~/.kaggle\n",
        "! cp kaggle.json ~/.kaggle/\n",
        "! chmod 600 ~/.kaggle/kaggle.json\n",
        "! kaggle competitions download g-research-crypto-forecasting\"\"\"\n",
        "from google.colab import drive\n",
        "drive.mount('/content/drive',force_remount=True)"
      ],
      "metadata": {
        "id": "jEQrPfoeqbe8",
        "colab": {
          "base_uri": "https://localhost:8080/"
        },
        "outputId": "95ea4eee-22bb-4517-efbb-f40814643cef"
      },
      "execution_count": 2,
      "outputs": [
        {
          "output_type": "stream",
          "name": "stdout",
          "text": [
            "Mounted at /content/drive\n"
          ]
        }
      ]
    },
    {
      "cell_type": "code",
      "source": [
        "! unzip \"/content/drive/MyDrive/Crypto-research/train.csv (1).zip\""
      ],
      "metadata": {
        "id": "1s4UiiLmFriS",
        "colab": {
          "base_uri": "https://localhost:8080/"
        },
        "outputId": "b1aa45e0-391d-4ea4-bd08-a7058cfb5e8c"
      },
      "execution_count": 3,
      "outputs": [
        {
          "output_type": "stream",
          "name": "stdout",
          "text": [
            "Archive:  /content/drive/MyDrive/Crypto-research/train.csv (1).zip\n",
            "  inflating: train.csv               \n"
          ]
        }
      ]
    },
    {
      "cell_type": "code",
      "execution_count": 4,
      "metadata": {
        "id": "-OqaIIYSC3bb"
      },
      "outputs": [],
      "source": [
        "from tensorflow.keras.layers import Concatenate, Add, GRU, GlobalAvgPool1D, Dense, Dropout, Input, Bidirectional, LSTM, Conv1D, Multiply \n",
        "import pandas as pd\n",
        "import numpy as np\n",
        "import seaborn as sns\n",
        "from sklearn.preprocessing import MinMaxScaler, StandardScaler\n",
        "import matplotlib.pyplot as plt\n",
        "import tensorflow as tf\n",
        "from tensorflow.keras.layers import Activation\n",
        "from tensorflow.keras.metrics import RootMeanSquaredError, MeanAbsolutePercentageError , MeanSquaredError\n",
        "from keras.utils.generic_utils import get_custom_objects\n",
        "import math as m\n",
        "import time\n",
        "import gc\n",
        "import os"
      ]
    },
    {
      "cell_type": "code",
      "source": [
        "\"\"\"def act_bipolar(x):\n",
        "    '''Bipolar'''\n",
        "    return ((1-tf.math.exp(-x)) / (1+tf.math.exp(-x)))\n",
        "def act_SiLU(x):\n",
        "    '''SiLU'''\n",
        "    return (x/(1+tf.math.exp(-x)))\n",
        "def act_softplus(x):\n",
        "    '''Softplus'''\n",
        "    return tf.nn.softplus(x)\n",
        "\n",
        "\"\"\"\n",
        "def act_LRELU(x):\n",
        "  '''Leaky RELU'''\n",
        "  return tf.nn.leaky_relu(x)\n",
        "\"\"\"\n",
        "def act_swish(x):\n",
        "   '''Swish'''\n",
        "   return x * tf.sigmoid(x)\n",
        "\"\"\"\n",
        "def act_Mcubic(x):\n",
        "    '''Monotonic Cubic'''\n",
        "    return (tf.math.pow(x,3) + x)\n",
        "\n",
        "def act_NMcubic(x):\n",
        "    '''Non Monotonic Cubic'''\n",
        "    return (x - tf.math.pow(x,3))\n",
        "\n",
        "def act_DSU(x):\n",
        "    '''Decaying Sine Unit'''\n",
        "    return (tf.constant(m.pi)/2)*(tf.experimental.numpy.sinc(x-tf.constant(m.pi)) - tf.experimental.numpy.sinc(x+tf.constant(m.pi))) \n",
        "\n",
        "def act_GCU(x):\n",
        "    '''Growing Cosine Unit'''\n",
        "    return x*tf.cos(x)\n",
        "\n",
        "def act_shiftedSinc(x):\n",
        "    '''Shifted Sinc'''\n",
        "    return tf.constant(m.pi)*tf.experimental.numpy.sinc(x-tf.constant(m.pi))\n",
        "\n",
        "def act_z2cosz(x):\n",
        "  ''' x2cos(x)'''\n",
        "  return x*x*tf.cos(x)\n",
        "\n",
        "def act_sinz(x):\n",
        "  ''' sin(x)'''\n",
        "  return tf.sin(x)\n",
        "\n",
        "\n",
        "\"\"\"\n",
        "def act_Mish(x):\n",
        "  '''Mish'''\n",
        "  return x*tf.tanh(tf.math.log(1+tf.math.exp(x)))\n",
        "\n",
        "def act_GELU(x):\n",
        "  '''GELU'''\n",
        "  return tf.keras.activations.gelu(x)\n",
        "\"\"\"\n",
        "def act_Shifted_Quadratic(x):\n",
        "  '''Shifted Quadratic'''\n",
        "  return (tf.math.pow(x,2) + x)\n",
        "  \n",
        "#get_custom_objects().update({'bipolar': Activation(act_bipolar)})\n",
        "#get_custom_objects().update({'silu': Activation(act_SiLU)})\n",
        "#get_custom_objects().update({'softplus': Activation(act_softplus)})\n",
        "get_custom_objects().update({'lrelu': Activation(act_LRELU)})\n",
        "#get_custom_objects().update({'swish': Activation(act_swish)})\n",
        "get_custom_objects().update({'mcubic': Activation(act_Mcubic)})\n",
        "get_custom_objects().update({'nmcubic': Activation(act_NMcubic)})\n",
        "get_custom_objects().update({'dsu': Activation(act_DSU)})\n",
        "get_custom_objects().update({'gcu': act_GCU})\n",
        "get_custom_objects().update({'shiftedsinc': Activation(act_shiftedSinc)})\n",
        "#get_custom_objects().update({'mish': Activation(act_Mish)})\n",
        "#get_custom_objects().update({'gelu': Activation(act_GELU)})\n",
        "get_custom_objects().update({'shiftedquadratic': Activation(act_Shifted_Quadratic)})\n",
        "get_custom_objects().update({'z2cosz': Activation(act_z2cosz)})\n",
        "get_custom_objects().update({'sin': Activation(act_sinz)})\n",
        "\"\"\"class TimeCalcCallback(tf.keras.callbacks.Callback):\n",
        "    def on_epoch_begin(self, epoch, logs=None):\n",
        "        self.epoch_time_start = time.time()    \n",
        "    def on_epoch_end(self, epoch, logs=None):\n",
        "        times.append(time.time() - self.epoch_time_start)\"\"\""
      ],
      "metadata": {
        "id": "mk4h7BqnyQYa",
        "colab": {
          "base_uri": "https://localhost:8080/",
          "height": 53
        },
        "outputId": "02493728-109a-4989-cef8-51e5e133b0ec"
      },
      "execution_count": 5,
      "outputs": [
        {
          "output_type": "execute_result",
          "data": {
            "text/plain": [
              "'class TimeCalcCallback(tf.keras.callbacks.Callback):\\n    def on_epoch_begin(self, epoch, logs=None):\\n        self.epoch_time_start = time.time()    \\n    def on_epoch_end(self, epoch, logs=None):\\n        times.append(time.time() - self.epoch_time_start)'"
            ],
            "application/vnd.google.colaboratory.intrinsic+json": {
              "type": "string"
            }
          },
          "metadata": {},
          "execution_count": 5
        }
      ]
    },
    {
      "cell_type": "markdown",
      "source": [
        "#**Importing Data**"
      ],
      "metadata": {
        "id": "WwVrXgYADiw-"
      }
    },
    {
      "cell_type": "code",
      "source": [
        "dataset=pd.read_csv(\"train.csv\")\n",
        "dataset.head()"
      ],
      "metadata": {
        "id": "4Y2d0TKJDpED",
        "colab": {
          "base_uri": "https://localhost:8080/",
          "height": 206
        },
        "outputId": "5857cdf0-80b9-48d5-8e38-c726546e3b64"
      },
      "execution_count": 6,
      "outputs": [
        {
          "output_type": "execute_result",
          "data": {
            "text/plain": [
              "    timestamp  Asset_ID  Count        Open        High         Low  \\\n",
              "0  1514764860         2   40.0   2376.5800   2399.5000   2357.1400   \n",
              "1  1514764860         0    5.0      8.5300      8.5300      8.5300   \n",
              "2  1514764860         1  229.0  13835.1940  14013.8000  13666.1100   \n",
              "3  1514764860         5   32.0      7.6596      7.6596      7.6567   \n",
              "4  1514764860         7    5.0     25.9200     25.9200     25.8740   \n",
              "\n",
              "        Close       Volume          VWAP    Target  \n",
              "0   2374.5900    19.233005   2373.116392 -0.004218  \n",
              "1      8.5300    78.380000      8.530000 -0.014399  \n",
              "2  13850.1760    31.550062  13827.062093 -0.014643  \n",
              "3      7.6576  6626.713370      7.657713 -0.013922  \n",
              "4     25.8770   121.087310     25.891363 -0.008264  "
            ],
            "text/html": [
              "\n",
              "  <div id=\"df-6e878a1e-5ada-4b18-a2c8-7118a1339d33\">\n",
              "    <div class=\"colab-df-container\">\n",
              "      <div>\n",
              "<style scoped>\n",
              "    .dataframe tbody tr th:only-of-type {\n",
              "        vertical-align: middle;\n",
              "    }\n",
              "\n",
              "    .dataframe tbody tr th {\n",
              "        vertical-align: top;\n",
              "    }\n",
              "\n",
              "    .dataframe thead th {\n",
              "        text-align: right;\n",
              "    }\n",
              "</style>\n",
              "<table border=\"1\" class=\"dataframe\">\n",
              "  <thead>\n",
              "    <tr style=\"text-align: right;\">\n",
              "      <th></th>\n",
              "      <th>timestamp</th>\n",
              "      <th>Asset_ID</th>\n",
              "      <th>Count</th>\n",
              "      <th>Open</th>\n",
              "      <th>High</th>\n",
              "      <th>Low</th>\n",
              "      <th>Close</th>\n",
              "      <th>Volume</th>\n",
              "      <th>VWAP</th>\n",
              "      <th>Target</th>\n",
              "    </tr>\n",
              "  </thead>\n",
              "  <tbody>\n",
              "    <tr>\n",
              "      <th>0</th>\n",
              "      <td>1514764860</td>\n",
              "      <td>2</td>\n",
              "      <td>40.0</td>\n",
              "      <td>2376.5800</td>\n",
              "      <td>2399.5000</td>\n",
              "      <td>2357.1400</td>\n",
              "      <td>2374.5900</td>\n",
              "      <td>19.233005</td>\n",
              "      <td>2373.116392</td>\n",
              "      <td>-0.004218</td>\n",
              "    </tr>\n",
              "    <tr>\n",
              "      <th>1</th>\n",
              "      <td>1514764860</td>\n",
              "      <td>0</td>\n",
              "      <td>5.0</td>\n",
              "      <td>8.5300</td>\n",
              "      <td>8.5300</td>\n",
              "      <td>8.5300</td>\n",
              "      <td>8.5300</td>\n",
              "      <td>78.380000</td>\n",
              "      <td>8.530000</td>\n",
              "      <td>-0.014399</td>\n",
              "    </tr>\n",
              "    <tr>\n",
              "      <th>2</th>\n",
              "      <td>1514764860</td>\n",
              "      <td>1</td>\n",
              "      <td>229.0</td>\n",
              "      <td>13835.1940</td>\n",
              "      <td>14013.8000</td>\n",
              "      <td>13666.1100</td>\n",
              "      <td>13850.1760</td>\n",
              "      <td>31.550062</td>\n",
              "      <td>13827.062093</td>\n",
              "      <td>-0.014643</td>\n",
              "    </tr>\n",
              "    <tr>\n",
              "      <th>3</th>\n",
              "      <td>1514764860</td>\n",
              "      <td>5</td>\n",
              "      <td>32.0</td>\n",
              "      <td>7.6596</td>\n",
              "      <td>7.6596</td>\n",
              "      <td>7.6567</td>\n",
              "      <td>7.6576</td>\n",
              "      <td>6626.713370</td>\n",
              "      <td>7.657713</td>\n",
              "      <td>-0.013922</td>\n",
              "    </tr>\n",
              "    <tr>\n",
              "      <th>4</th>\n",
              "      <td>1514764860</td>\n",
              "      <td>7</td>\n",
              "      <td>5.0</td>\n",
              "      <td>25.9200</td>\n",
              "      <td>25.9200</td>\n",
              "      <td>25.8740</td>\n",
              "      <td>25.8770</td>\n",
              "      <td>121.087310</td>\n",
              "      <td>25.891363</td>\n",
              "      <td>-0.008264</td>\n",
              "    </tr>\n",
              "  </tbody>\n",
              "</table>\n",
              "</div>\n",
              "      <button class=\"colab-df-convert\" onclick=\"convertToInteractive('df-6e878a1e-5ada-4b18-a2c8-7118a1339d33')\"\n",
              "              title=\"Convert this dataframe to an interactive table.\"\n",
              "              style=\"display:none;\">\n",
              "        \n",
              "  <svg xmlns=\"http://www.w3.org/2000/svg\" height=\"24px\"viewBox=\"0 0 24 24\"\n",
              "       width=\"24px\">\n",
              "    <path d=\"M0 0h24v24H0V0z\" fill=\"none\"/>\n",
              "    <path d=\"M18.56 5.44l.94 2.06.94-2.06 2.06-.94-2.06-.94-.94-2.06-.94 2.06-2.06.94zm-11 1L8.5 8.5l.94-2.06 2.06-.94-2.06-.94L8.5 2.5l-.94 2.06-2.06.94zm10 10l.94 2.06.94-2.06 2.06-.94-2.06-.94-.94-2.06-.94 2.06-2.06.94z\"/><path d=\"M17.41 7.96l-1.37-1.37c-.4-.4-.92-.59-1.43-.59-.52 0-1.04.2-1.43.59L10.3 9.45l-7.72 7.72c-.78.78-.78 2.05 0 2.83L4 21.41c.39.39.9.59 1.41.59.51 0 1.02-.2 1.41-.59l7.78-7.78 2.81-2.81c.8-.78.8-2.07 0-2.86zM5.41 20L4 18.59l7.72-7.72 1.47 1.35L5.41 20z\"/>\n",
              "  </svg>\n",
              "      </button>\n",
              "      \n",
              "  <style>\n",
              "    .colab-df-container {\n",
              "      display:flex;\n",
              "      flex-wrap:wrap;\n",
              "      gap: 12px;\n",
              "    }\n",
              "\n",
              "    .colab-df-convert {\n",
              "      background-color: #E8F0FE;\n",
              "      border: none;\n",
              "      border-radius: 50%;\n",
              "      cursor: pointer;\n",
              "      display: none;\n",
              "      fill: #1967D2;\n",
              "      height: 32px;\n",
              "      padding: 0 0 0 0;\n",
              "      width: 32px;\n",
              "    }\n",
              "\n",
              "    .colab-df-convert:hover {\n",
              "      background-color: #E2EBFA;\n",
              "      box-shadow: 0px 1px 2px rgba(60, 64, 67, 0.3), 0px 1px 3px 1px rgba(60, 64, 67, 0.15);\n",
              "      fill: #174EA6;\n",
              "    }\n",
              "\n",
              "    [theme=dark] .colab-df-convert {\n",
              "      background-color: #3B4455;\n",
              "      fill: #D2E3FC;\n",
              "    }\n",
              "\n",
              "    [theme=dark] .colab-df-convert:hover {\n",
              "      background-color: #434B5C;\n",
              "      box-shadow: 0px 1px 3px 1px rgba(0, 0, 0, 0.15);\n",
              "      filter: drop-shadow(0px 1px 2px rgba(0, 0, 0, 0.3));\n",
              "      fill: #FFFFFF;\n",
              "    }\n",
              "  </style>\n",
              "\n",
              "      <script>\n",
              "        const buttonEl =\n",
              "          document.querySelector('#df-6e878a1e-5ada-4b18-a2c8-7118a1339d33 button.colab-df-convert');\n",
              "        buttonEl.style.display =\n",
              "          google.colab.kernel.accessAllowed ? 'block' : 'none';\n",
              "\n",
              "        async function convertToInteractive(key) {\n",
              "          const element = document.querySelector('#df-6e878a1e-5ada-4b18-a2c8-7118a1339d33');\n",
              "          const dataTable =\n",
              "            await google.colab.kernel.invokeFunction('convertToInteractive',\n",
              "                                                     [key], {});\n",
              "          if (!dataTable) return;\n",
              "\n",
              "          const docLinkHtml = 'Like what you see? Visit the ' +\n",
              "            '<a target=\"_blank\" href=https://colab.research.google.com/notebooks/data_table.ipynb>data table notebook</a>'\n",
              "            + ' to learn more about interactive tables.';\n",
              "          element.innerHTML = '';\n",
              "          dataTable['output_type'] = 'display_data';\n",
              "          await google.colab.output.renderOutput(dataTable, element);\n",
              "          const docLink = document.createElement('div');\n",
              "          docLink.innerHTML = docLinkHtml;\n",
              "          element.appendChild(docLink);\n",
              "        }\n",
              "      </script>\n",
              "    </div>\n",
              "  </div>\n",
              "  "
            ]
          },
          "metadata": {},
          "execution_count": 6
        }
      ]
    },
    {
      "cell_type": "code",
      "source": [
        "dataset.info()"
      ],
      "metadata": {
        "colab": {
          "base_uri": "https://localhost:8080/"
        },
        "id": "ba3LX9vPr0OK",
        "outputId": "8cd8f490-b497-4c42-8f72-e042f4264a37"
      },
      "execution_count": 7,
      "outputs": [
        {
          "output_type": "stream",
          "name": "stdout",
          "text": [
            "<class 'pandas.core.frame.DataFrame'>\n",
            "RangeIndex: 24236806 entries, 0 to 24236805\n",
            "Data columns (total 10 columns):\n",
            " #   Column     Dtype  \n",
            "---  ------     -----  \n",
            " 0   timestamp  int64  \n",
            " 1   Asset_ID   int64  \n",
            " 2   Count      float64\n",
            " 3   Open       float64\n",
            " 4   High       float64\n",
            " 5   Low        float64\n",
            " 6   Close      float64\n",
            " 7   Volume     float64\n",
            " 8   VWAP       float64\n",
            " 9   Target     float64\n",
            "dtypes: float64(8), int64(2)\n",
            "memory usage: 1.8 GB\n"
          ]
        }
      ]
    },
    {
      "cell_type": "markdown",
      "source": [
        "#**Data Preprocessing**"
      ],
      "metadata": {
        "id": "qetScfObDps6"
      }
    },
    {
      "cell_type": "code",
      "source": [
        "dataset.isnull().sum()"
      ],
      "metadata": {
        "colab": {
          "base_uri": "https://localhost:8080/"
        },
        "id": "d5AX0abfggXq",
        "outputId": "3de5763e-2e89-4149-8a9a-f89ffbbc5818"
      },
      "execution_count": 8,
      "outputs": [
        {
          "output_type": "execute_result",
          "data": {
            "text/plain": [
              "timestamp         0\n",
              "Asset_ID          0\n",
              "Count             0\n",
              "Open              0\n",
              "High              0\n",
              "Low               0\n",
              "Close             0\n",
              "Volume            0\n",
              "VWAP              9\n",
              "Target       750338\n",
              "dtype: int64"
            ]
          },
          "metadata": {},
          "execution_count": 8
        }
      ]
    },
    {
      "cell_type": "code",
      "source": [
        "dataset=dataset.dropna()"
      ],
      "metadata": {
        "id": "u2_yZUdlguda"
      },
      "execution_count": 9,
      "outputs": []
    },
    {
      "cell_type": "code",
      "source": [
        "df=dataset.groupby(\"Asset_ID\")\n",
        "bitcoin_data=df.get_group(1)\n",
        "bitcoin_data.shape"
      ],
      "metadata": {
        "id": "RbrfZsZWuiYI",
        "colab": {
          "base_uri": "https://localhost:8080/"
        },
        "outputId": "b1c3ee63-881d-465f-d66a-02b5eec4a5e2"
      },
      "execution_count": 10,
      "outputs": [
        {
          "output_type": "execute_result",
          "data": {
            "text/plain": [
              "(1955978, 10)"
            ]
          },
          "metadata": {},
          "execution_count": 10
        }
      ]
    },
    {
      "cell_type": "code",
      "source": [
        "bitcoin_data=bitcoin_data.drop(['Asset_ID','timestamp'],axis=1)"
      ],
      "metadata": {
        "id": "Xi9gsev91dwy"
      },
      "execution_count": 11,
      "outputs": []
    },
    {
      "cell_type": "code",
      "source": [
        "bitcoin_data.head()"
      ],
      "metadata": {
        "colab": {
          "base_uri": "https://localhost:8080/",
          "height": 206
        },
        "id": "YMTQXpMS5HeS",
        "outputId": "5216b569-c985-422b-f18f-bdac5c47ef74"
      },
      "execution_count": 12,
      "outputs": [
        {
          "output_type": "execute_result",
          "data": {
            "text/plain": [
              "    Count       Open     High       Low      Close      Volume          VWAP  \\\n",
              "2   229.0  13835.194  14013.8  13666.11  13850.176   31.550062  13827.062093   \n",
              "10  235.0  13835.036  14052.3  13680.00  13828.102   31.046432  13840.362591   \n",
              "18  528.0  13823.900  14000.4  13601.00  13801.314   55.061820  13806.068014   \n",
              "26  435.0  13802.512  13999.0  13576.28  13768.040   38.780529  13783.598101   \n",
              "34  742.0  13766.000  13955.9  13554.44  13724.914  108.501637  13735.586842   \n",
              "\n",
              "      Target  \n",
              "2  -0.014643  \n",
              "10 -0.015037  \n",
              "18 -0.010309  \n",
              "26 -0.008999  \n",
              "34 -0.008079  "
            ],
            "text/html": [
              "\n",
              "  <div id=\"df-f3f12828-05ff-458c-9b43-baeb392048fc\">\n",
              "    <div class=\"colab-df-container\">\n",
              "      <div>\n",
              "<style scoped>\n",
              "    .dataframe tbody tr th:only-of-type {\n",
              "        vertical-align: middle;\n",
              "    }\n",
              "\n",
              "    .dataframe tbody tr th {\n",
              "        vertical-align: top;\n",
              "    }\n",
              "\n",
              "    .dataframe thead th {\n",
              "        text-align: right;\n",
              "    }\n",
              "</style>\n",
              "<table border=\"1\" class=\"dataframe\">\n",
              "  <thead>\n",
              "    <tr style=\"text-align: right;\">\n",
              "      <th></th>\n",
              "      <th>Count</th>\n",
              "      <th>Open</th>\n",
              "      <th>High</th>\n",
              "      <th>Low</th>\n",
              "      <th>Close</th>\n",
              "      <th>Volume</th>\n",
              "      <th>VWAP</th>\n",
              "      <th>Target</th>\n",
              "    </tr>\n",
              "  </thead>\n",
              "  <tbody>\n",
              "    <tr>\n",
              "      <th>2</th>\n",
              "      <td>229.0</td>\n",
              "      <td>13835.194</td>\n",
              "      <td>14013.8</td>\n",
              "      <td>13666.11</td>\n",
              "      <td>13850.176</td>\n",
              "      <td>31.550062</td>\n",
              "      <td>13827.062093</td>\n",
              "      <td>-0.014643</td>\n",
              "    </tr>\n",
              "    <tr>\n",
              "      <th>10</th>\n",
              "      <td>235.0</td>\n",
              "      <td>13835.036</td>\n",
              "      <td>14052.3</td>\n",
              "      <td>13680.00</td>\n",
              "      <td>13828.102</td>\n",
              "      <td>31.046432</td>\n",
              "      <td>13840.362591</td>\n",
              "      <td>-0.015037</td>\n",
              "    </tr>\n",
              "    <tr>\n",
              "      <th>18</th>\n",
              "      <td>528.0</td>\n",
              "      <td>13823.900</td>\n",
              "      <td>14000.4</td>\n",
              "      <td>13601.00</td>\n",
              "      <td>13801.314</td>\n",
              "      <td>55.061820</td>\n",
              "      <td>13806.068014</td>\n",
              "      <td>-0.010309</td>\n",
              "    </tr>\n",
              "    <tr>\n",
              "      <th>26</th>\n",
              "      <td>435.0</td>\n",
              "      <td>13802.512</td>\n",
              "      <td>13999.0</td>\n",
              "      <td>13576.28</td>\n",
              "      <td>13768.040</td>\n",
              "      <td>38.780529</td>\n",
              "      <td>13783.598101</td>\n",
              "      <td>-0.008999</td>\n",
              "    </tr>\n",
              "    <tr>\n",
              "      <th>34</th>\n",
              "      <td>742.0</td>\n",
              "      <td>13766.000</td>\n",
              "      <td>13955.9</td>\n",
              "      <td>13554.44</td>\n",
              "      <td>13724.914</td>\n",
              "      <td>108.501637</td>\n",
              "      <td>13735.586842</td>\n",
              "      <td>-0.008079</td>\n",
              "    </tr>\n",
              "  </tbody>\n",
              "</table>\n",
              "</div>\n",
              "      <button class=\"colab-df-convert\" onclick=\"convertToInteractive('df-f3f12828-05ff-458c-9b43-baeb392048fc')\"\n",
              "              title=\"Convert this dataframe to an interactive table.\"\n",
              "              style=\"display:none;\">\n",
              "        \n",
              "  <svg xmlns=\"http://www.w3.org/2000/svg\" height=\"24px\"viewBox=\"0 0 24 24\"\n",
              "       width=\"24px\">\n",
              "    <path d=\"M0 0h24v24H0V0z\" fill=\"none\"/>\n",
              "    <path d=\"M18.56 5.44l.94 2.06.94-2.06 2.06-.94-2.06-.94-.94-2.06-.94 2.06-2.06.94zm-11 1L8.5 8.5l.94-2.06 2.06-.94-2.06-.94L8.5 2.5l-.94 2.06-2.06.94zm10 10l.94 2.06.94-2.06 2.06-.94-2.06-.94-.94-2.06-.94 2.06-2.06.94z\"/><path d=\"M17.41 7.96l-1.37-1.37c-.4-.4-.92-.59-1.43-.59-.52 0-1.04.2-1.43.59L10.3 9.45l-7.72 7.72c-.78.78-.78 2.05 0 2.83L4 21.41c.39.39.9.59 1.41.59.51 0 1.02-.2 1.41-.59l7.78-7.78 2.81-2.81c.8-.78.8-2.07 0-2.86zM5.41 20L4 18.59l7.72-7.72 1.47 1.35L5.41 20z\"/>\n",
              "  </svg>\n",
              "      </button>\n",
              "      \n",
              "  <style>\n",
              "    .colab-df-container {\n",
              "      display:flex;\n",
              "      flex-wrap:wrap;\n",
              "      gap: 12px;\n",
              "    }\n",
              "\n",
              "    .colab-df-convert {\n",
              "      background-color: #E8F0FE;\n",
              "      border: none;\n",
              "      border-radius: 50%;\n",
              "      cursor: pointer;\n",
              "      display: none;\n",
              "      fill: #1967D2;\n",
              "      height: 32px;\n",
              "      padding: 0 0 0 0;\n",
              "      width: 32px;\n",
              "    }\n",
              "\n",
              "    .colab-df-convert:hover {\n",
              "      background-color: #E2EBFA;\n",
              "      box-shadow: 0px 1px 2px rgba(60, 64, 67, 0.3), 0px 1px 3px 1px rgba(60, 64, 67, 0.15);\n",
              "      fill: #174EA6;\n",
              "    }\n",
              "\n",
              "    [theme=dark] .colab-df-convert {\n",
              "      background-color: #3B4455;\n",
              "      fill: #D2E3FC;\n",
              "    }\n",
              "\n",
              "    [theme=dark] .colab-df-convert:hover {\n",
              "      background-color: #434B5C;\n",
              "      box-shadow: 0px 1px 3px 1px rgba(0, 0, 0, 0.15);\n",
              "      filter: drop-shadow(0px 1px 2px rgba(0, 0, 0, 0.3));\n",
              "      fill: #FFFFFF;\n",
              "    }\n",
              "  </style>\n",
              "\n",
              "      <script>\n",
              "        const buttonEl =\n",
              "          document.querySelector('#df-f3f12828-05ff-458c-9b43-baeb392048fc button.colab-df-convert');\n",
              "        buttonEl.style.display =\n",
              "          google.colab.kernel.accessAllowed ? 'block' : 'none';\n",
              "\n",
              "        async function convertToInteractive(key) {\n",
              "          const element = document.querySelector('#df-f3f12828-05ff-458c-9b43-baeb392048fc');\n",
              "          const dataTable =\n",
              "            await google.colab.kernel.invokeFunction('convertToInteractive',\n",
              "                                                     [key], {});\n",
              "          if (!dataTable) return;\n",
              "\n",
              "          const docLinkHtml = 'Like what you see? Visit the ' +\n",
              "            '<a target=\"_blank\" href=https://colab.research.google.com/notebooks/data_table.ipynb>data table notebook</a>'\n",
              "            + ' to learn more about interactive tables.';\n",
              "          element.innerHTML = '';\n",
              "          dataTable['output_type'] = 'display_data';\n",
              "          await google.colab.output.renderOutput(dataTable, element);\n",
              "          const docLink = document.createElement('div');\n",
              "          docLink.innerHTML = docLinkHtml;\n",
              "          element.appendChild(docLink);\n",
              "        }\n",
              "      </script>\n",
              "    </div>\n",
              "  </div>\n",
              "  "
            ]
          },
          "metadata": {},
          "execution_count": 12
        }
      ]
    },
    {
      "cell_type": "code",
      "source": [
        "def upper_shadow(df): return df['High'] - np.maximum(df['Close'], df['Open'])\n",
        "def lower_shadow(df): return np.minimum(df['Close'], df['Open']) - df['Low']\n",
        "\n",
        "def get_features(df, row = False):\n",
        "    df_feat = df\n",
        "    df_feat['spread'] = df_feat['High'] - df_feat['Low']\n",
        "    df_feat['mean_trade'] = df_feat['Volume']/df_feat['Count']\n",
        "    df_feat['log_price_change'] = np.log(df_feat['Close']/df_feat['Open'])\n",
        "    df_feat['upper_Shadow'] = upper_shadow(df_feat)\n",
        "    df_feat['lower_Shadow'] = lower_shadow(df_feat)\n",
        "    df_feat[\"high_div_low\"] = df_feat[\"High\"] / df_feat[\"Low\"]\n",
        "    df_feat['trade'] = df_feat['Close'] - df_feat['Open']\n",
        "    df_feat['gtrade'] = df_feat['trade'] / df_feat['Count']\n",
        "    df_feat['shadow1'] = df_feat['trade'] / df_feat['Volume']\n",
        "    df_feat['shadow3'] = df_feat['upper_Shadow'] / df_feat['Volume']\n",
        "    df_feat['shadow5'] = df_feat['lower_Shadow'] / df_feat['Volume']\n",
        "    df_feat['diff1'] = df_feat['Volume'] - df_feat['Count']\n",
        "    df_feat['mean1'] = (df_feat['shadow5'] + df_feat['shadow3']) / 2\n",
        "    df_feat['mean2'] = (df_feat['shadow1'] + df_feat['Volume']) / 2\n",
        "    df_feat['mean3'] = (df_feat['trade'] + df_feat['gtrade']) / 2\n",
        "    df_feat['mean4'] = (df_feat['diff1'] + df_feat['upper_Shadow']) / 2\n",
        "    df_feat['mean5'] = (df_feat['diff1'] + df_feat['lower_Shadow']) / 2\n",
        "    df_feat['UPS'] = (df_feat['High'] - np.maximum(df_feat['Close'], df_feat['Open']))\n",
        "    df_feat['UPS'] = df_feat['UPS']\n",
        "    df_feat['LOS'] = (np.minimum(df_feat['Close'], df_feat['Open']) - df_feat['Low'])\n",
        "    df_feat['LOS'] = df_feat['LOS']\n",
        "    df_feat['RNG'] = ((df_feat['High'] - df_feat['Low']) / df_feat['VWAP'])\n",
        "    df_feat['RNG'] = df_feat['RNG']\n",
        "    df_feat['MOV'] = ((df_feat['Close'] - df_feat['Open']) / df_feat['VWAP'])\n",
        "    df_feat['MOV'] = df_feat['MOV']\n",
        "    df_feat['CLS'] = ((df_feat['Close'] - df_feat['VWAP']) / df_feat['VWAP'])\n",
        "    df_feat['CLS'] = df_feat['CLS']\n",
        "    df_feat['LOGVOL'] = np.log(1. + df_feat['Volume'])\n",
        "    df_feat['LOGVOL'] = df_feat['LOGVOL']\n",
        "    df_feat['LOGCNT'] = np.log(1. + df_feat['Count'])\n",
        "    df_feat['LOGCNT'] = df_feat['LOGCNT']\n",
        "    df_feat[\"Close/Open\"] = df_feat[\"Close\"] / df_feat[\"Open\"]\n",
        "    df_feat[\"Close-Open\"] = df_feat[\"Close\"] - df_feat[\"Open\"]\n",
        "    df_feat[\"High-Low\"] = df_feat[\"High\"] - df_feat[\"Low\"]\n",
        "    df_feat[\"High/Low\"] = df_feat[\"High\"] / df_feat[\"Low\"]\n",
        "    if row: df_feat['Mean'] = df_feat[['Open', 'High', 'Low', 'Close']].mean()\n",
        "    else: df_feat['Mean'] = df_feat[['Open', 'High', 'Low', 'Close']].mean(axis = 1)\n",
        "    df_feat[\"High/Mean\"] = df_feat[\"High\"] / df_feat[\"Mean\"]\n",
        "    df_feat[\"Low/Mean\"] = df_feat[\"Low\"] / df_feat[\"Mean\"]\n",
        "    df_feat[\"Volume/Count\"] = df_feat[\"Volume\"] / (df_feat[\"Count\"] + 1)\n",
        "    mean_price = df_feat[['Open', 'High', 'Low', 'Close']].mean(axis=1)\n",
        "    median_price = df_feat[['Open', 'High', 'Low', 'Close']].median(axis=1)\n",
        "    df_feat['high2mean'] = df_feat['High'] / mean_price\n",
        "    df_feat['low2mean'] = df_feat['Low'] / mean_price\n",
        "    df_feat['high2median'] = df_feat['High'] / median_price\n",
        "    df_feat['low2median'] = df_feat['Low'] / median_price\n",
        "    df_feat['volume2count'] = df_feat['Volume'] / (df_feat['Count'] + 1)\n",
        "    return df_feat"
      ],
      "metadata": {
        "id": "V0Rr7iTClBU3"
      },
      "execution_count": 13,
      "outputs": []
    },
    {
      "cell_type": "code",
      "source": [
        "data=get_features(bitcoin_data)\n",
        "data.head()"
      ],
      "metadata": {
        "id": "3GCRYFA7Om26",
        "colab": {
          "base_uri": "https://localhost:8080/",
          "height": 236
        },
        "outputId": "8a9198a2-5095-4fec-932e-7b8000404846"
      },
      "execution_count": 14,
      "outputs": [
        {
          "output_type": "execute_result",
          "data": {
            "text/plain": [
              "    Count       Open     High       Low      Close      Volume          VWAP  \\\n",
              "2   229.0  13835.194  14013.8  13666.11  13850.176   31.550062  13827.062093   \n",
              "10  235.0  13835.036  14052.3  13680.00  13828.102   31.046432  13840.362591   \n",
              "18  528.0  13823.900  14000.4  13601.00  13801.314   55.061820  13806.068014   \n",
              "26  435.0  13802.512  13999.0  13576.28  13768.040   38.780529  13783.598101   \n",
              "34  742.0  13766.000  13955.9  13554.44  13724.914  108.501637  13735.586842   \n",
              "\n",
              "      Target  spread  mean_trade  ...  High/Low        Mean  High/Mean  \\\n",
              "2  -0.014643  347.69    0.137773  ...  1.025442  13841.3200   1.012461   \n",
              "10 -0.015037  372.30    0.132112  ...  1.027215  13848.8595   1.014690   \n",
              "18 -0.010309  399.40    0.104284  ...  1.029365  13806.6535   1.014033   \n",
              "26 -0.008999  422.72    0.089151  ...  1.031137  13786.4580   1.015417   \n",
              "34 -0.008079  401.46    0.146229  ...  1.029618  13750.3135   1.014951   \n",
              "\n",
              "    Low/Mean  Volume/Count  high2mean  low2mean  high2median  low2median  \\\n",
              "2   0.987342      0.137174   1.012461  0.987342     1.012361    0.987244   \n",
              "10  0.987807      0.131553   1.014690  0.987807     1.015958    0.989042   \n",
              "18  0.985105      0.104087   1.014033  0.985105     1.013596    0.984680   \n",
              "26  0.984755      0.088946   1.015417  0.984755     1.015504    0.984839   \n",
              "34  0.985755      0.146032   1.014951  0.985755     1.015310    0.986103   \n",
              "\n",
              "    volume2count  \n",
              "2       0.137174  \n",
              "10      0.131553  \n",
              "18      0.104087  \n",
              "26      0.088946  \n",
              "34      0.146032  \n",
              "\n",
              "[5 rows x 45 columns]"
            ],
            "text/html": [
              "\n",
              "  <div id=\"df-23a8d5aa-098b-409a-a497-e3317ba849fa\">\n",
              "    <div class=\"colab-df-container\">\n",
              "      <div>\n",
              "<style scoped>\n",
              "    .dataframe tbody tr th:only-of-type {\n",
              "        vertical-align: middle;\n",
              "    }\n",
              "\n",
              "    .dataframe tbody tr th {\n",
              "        vertical-align: top;\n",
              "    }\n",
              "\n",
              "    .dataframe thead th {\n",
              "        text-align: right;\n",
              "    }\n",
              "</style>\n",
              "<table border=\"1\" class=\"dataframe\">\n",
              "  <thead>\n",
              "    <tr style=\"text-align: right;\">\n",
              "      <th></th>\n",
              "      <th>Count</th>\n",
              "      <th>Open</th>\n",
              "      <th>High</th>\n",
              "      <th>Low</th>\n",
              "      <th>Close</th>\n",
              "      <th>Volume</th>\n",
              "      <th>VWAP</th>\n",
              "      <th>Target</th>\n",
              "      <th>spread</th>\n",
              "      <th>mean_trade</th>\n",
              "      <th>...</th>\n",
              "      <th>High/Low</th>\n",
              "      <th>Mean</th>\n",
              "      <th>High/Mean</th>\n",
              "      <th>Low/Mean</th>\n",
              "      <th>Volume/Count</th>\n",
              "      <th>high2mean</th>\n",
              "      <th>low2mean</th>\n",
              "      <th>high2median</th>\n",
              "      <th>low2median</th>\n",
              "      <th>volume2count</th>\n",
              "    </tr>\n",
              "  </thead>\n",
              "  <tbody>\n",
              "    <tr>\n",
              "      <th>2</th>\n",
              "      <td>229.0</td>\n",
              "      <td>13835.194</td>\n",
              "      <td>14013.8</td>\n",
              "      <td>13666.11</td>\n",
              "      <td>13850.176</td>\n",
              "      <td>31.550062</td>\n",
              "      <td>13827.062093</td>\n",
              "      <td>-0.014643</td>\n",
              "      <td>347.69</td>\n",
              "      <td>0.137773</td>\n",
              "      <td>...</td>\n",
              "      <td>1.025442</td>\n",
              "      <td>13841.3200</td>\n",
              "      <td>1.012461</td>\n",
              "      <td>0.987342</td>\n",
              "      <td>0.137174</td>\n",
              "      <td>1.012461</td>\n",
              "      <td>0.987342</td>\n",
              "      <td>1.012361</td>\n",
              "      <td>0.987244</td>\n",
              "      <td>0.137174</td>\n",
              "    </tr>\n",
              "    <tr>\n",
              "      <th>10</th>\n",
              "      <td>235.0</td>\n",
              "      <td>13835.036</td>\n",
              "      <td>14052.3</td>\n",
              "      <td>13680.00</td>\n",
              "      <td>13828.102</td>\n",
              "      <td>31.046432</td>\n",
              "      <td>13840.362591</td>\n",
              "      <td>-0.015037</td>\n",
              "      <td>372.30</td>\n",
              "      <td>0.132112</td>\n",
              "      <td>...</td>\n",
              "      <td>1.027215</td>\n",
              "      <td>13848.8595</td>\n",
              "      <td>1.014690</td>\n",
              "      <td>0.987807</td>\n",
              "      <td>0.131553</td>\n",
              "      <td>1.014690</td>\n",
              "      <td>0.987807</td>\n",
              "      <td>1.015958</td>\n",
              "      <td>0.989042</td>\n",
              "      <td>0.131553</td>\n",
              "    </tr>\n",
              "    <tr>\n",
              "      <th>18</th>\n",
              "      <td>528.0</td>\n",
              "      <td>13823.900</td>\n",
              "      <td>14000.4</td>\n",
              "      <td>13601.00</td>\n",
              "      <td>13801.314</td>\n",
              "      <td>55.061820</td>\n",
              "      <td>13806.068014</td>\n",
              "      <td>-0.010309</td>\n",
              "      <td>399.40</td>\n",
              "      <td>0.104284</td>\n",
              "      <td>...</td>\n",
              "      <td>1.029365</td>\n",
              "      <td>13806.6535</td>\n",
              "      <td>1.014033</td>\n",
              "      <td>0.985105</td>\n",
              "      <td>0.104087</td>\n",
              "      <td>1.014033</td>\n",
              "      <td>0.985105</td>\n",
              "      <td>1.013596</td>\n",
              "      <td>0.984680</td>\n",
              "      <td>0.104087</td>\n",
              "    </tr>\n",
              "    <tr>\n",
              "      <th>26</th>\n",
              "      <td>435.0</td>\n",
              "      <td>13802.512</td>\n",
              "      <td>13999.0</td>\n",
              "      <td>13576.28</td>\n",
              "      <td>13768.040</td>\n",
              "      <td>38.780529</td>\n",
              "      <td>13783.598101</td>\n",
              "      <td>-0.008999</td>\n",
              "      <td>422.72</td>\n",
              "      <td>0.089151</td>\n",
              "      <td>...</td>\n",
              "      <td>1.031137</td>\n",
              "      <td>13786.4580</td>\n",
              "      <td>1.015417</td>\n",
              "      <td>0.984755</td>\n",
              "      <td>0.088946</td>\n",
              "      <td>1.015417</td>\n",
              "      <td>0.984755</td>\n",
              "      <td>1.015504</td>\n",
              "      <td>0.984839</td>\n",
              "      <td>0.088946</td>\n",
              "    </tr>\n",
              "    <tr>\n",
              "      <th>34</th>\n",
              "      <td>742.0</td>\n",
              "      <td>13766.000</td>\n",
              "      <td>13955.9</td>\n",
              "      <td>13554.44</td>\n",
              "      <td>13724.914</td>\n",
              "      <td>108.501637</td>\n",
              "      <td>13735.586842</td>\n",
              "      <td>-0.008079</td>\n",
              "      <td>401.46</td>\n",
              "      <td>0.146229</td>\n",
              "      <td>...</td>\n",
              "      <td>1.029618</td>\n",
              "      <td>13750.3135</td>\n",
              "      <td>1.014951</td>\n",
              "      <td>0.985755</td>\n",
              "      <td>0.146032</td>\n",
              "      <td>1.014951</td>\n",
              "      <td>0.985755</td>\n",
              "      <td>1.015310</td>\n",
              "      <td>0.986103</td>\n",
              "      <td>0.146032</td>\n",
              "    </tr>\n",
              "  </tbody>\n",
              "</table>\n",
              "<p>5 rows × 45 columns</p>\n",
              "</div>\n",
              "      <button class=\"colab-df-convert\" onclick=\"convertToInteractive('df-23a8d5aa-098b-409a-a497-e3317ba849fa')\"\n",
              "              title=\"Convert this dataframe to an interactive table.\"\n",
              "              style=\"display:none;\">\n",
              "        \n",
              "  <svg xmlns=\"http://www.w3.org/2000/svg\" height=\"24px\"viewBox=\"0 0 24 24\"\n",
              "       width=\"24px\">\n",
              "    <path d=\"M0 0h24v24H0V0z\" fill=\"none\"/>\n",
              "    <path d=\"M18.56 5.44l.94 2.06.94-2.06 2.06-.94-2.06-.94-.94-2.06-.94 2.06-2.06.94zm-11 1L8.5 8.5l.94-2.06 2.06-.94-2.06-.94L8.5 2.5l-.94 2.06-2.06.94zm10 10l.94 2.06.94-2.06 2.06-.94-2.06-.94-.94-2.06-.94 2.06-2.06.94z\"/><path d=\"M17.41 7.96l-1.37-1.37c-.4-.4-.92-.59-1.43-.59-.52 0-1.04.2-1.43.59L10.3 9.45l-7.72 7.72c-.78.78-.78 2.05 0 2.83L4 21.41c.39.39.9.59 1.41.59.51 0 1.02-.2 1.41-.59l7.78-7.78 2.81-2.81c.8-.78.8-2.07 0-2.86zM5.41 20L4 18.59l7.72-7.72 1.47 1.35L5.41 20z\"/>\n",
              "  </svg>\n",
              "      </button>\n",
              "      \n",
              "  <style>\n",
              "    .colab-df-container {\n",
              "      display:flex;\n",
              "      flex-wrap:wrap;\n",
              "      gap: 12px;\n",
              "    }\n",
              "\n",
              "    .colab-df-convert {\n",
              "      background-color: #E8F0FE;\n",
              "      border: none;\n",
              "      border-radius: 50%;\n",
              "      cursor: pointer;\n",
              "      display: none;\n",
              "      fill: #1967D2;\n",
              "      height: 32px;\n",
              "      padding: 0 0 0 0;\n",
              "      width: 32px;\n",
              "    }\n",
              "\n",
              "    .colab-df-convert:hover {\n",
              "      background-color: #E2EBFA;\n",
              "      box-shadow: 0px 1px 2px rgba(60, 64, 67, 0.3), 0px 1px 3px 1px rgba(60, 64, 67, 0.15);\n",
              "      fill: #174EA6;\n",
              "    }\n",
              "\n",
              "    [theme=dark] .colab-df-convert {\n",
              "      background-color: #3B4455;\n",
              "      fill: #D2E3FC;\n",
              "    }\n",
              "\n",
              "    [theme=dark] .colab-df-convert:hover {\n",
              "      background-color: #434B5C;\n",
              "      box-shadow: 0px 1px 3px 1px rgba(0, 0, 0, 0.15);\n",
              "      filter: drop-shadow(0px 1px 2px rgba(0, 0, 0, 0.3));\n",
              "      fill: #FFFFFF;\n",
              "    }\n",
              "  </style>\n",
              "\n",
              "      <script>\n",
              "        const buttonEl =\n",
              "          document.querySelector('#df-23a8d5aa-098b-409a-a497-e3317ba849fa button.colab-df-convert');\n",
              "        buttonEl.style.display =\n",
              "          google.colab.kernel.accessAllowed ? 'block' : 'none';\n",
              "\n",
              "        async function convertToInteractive(key) {\n",
              "          const element = document.querySelector('#df-23a8d5aa-098b-409a-a497-e3317ba849fa');\n",
              "          const dataTable =\n",
              "            await google.colab.kernel.invokeFunction('convertToInteractive',\n",
              "                                                     [key], {});\n",
              "          if (!dataTable) return;\n",
              "\n",
              "          const docLinkHtml = 'Like what you see? Visit the ' +\n",
              "            '<a target=\"_blank\" href=https://colab.research.google.com/notebooks/data_table.ipynb>data table notebook</a>'\n",
              "            + ' to learn more about interactive tables.';\n",
              "          element.innerHTML = '';\n",
              "          dataTable['output_type'] = 'display_data';\n",
              "          await google.colab.output.renderOutput(dataTable, element);\n",
              "          const docLink = document.createElement('div');\n",
              "          docLink.innerHTML = docLinkHtml;\n",
              "          element.appendChild(docLink);\n",
              "        }\n",
              "      </script>\n",
              "    </div>\n",
              "  </div>\n",
              "  "
            ]
          },
          "metadata": {},
          "execution_count": 14
        }
      ]
    },
    {
      "cell_type": "code",
      "source": [
        "Scaler=MinMaxScaler()\n",
        "data=Scaler.fit_transform(data)"
      ],
      "metadata": {
        "id": "c7g3JA9in1D7"
      },
      "execution_count": 15,
      "outputs": []
    },
    {
      "cell_type": "code",
      "source": [
        "size=data.shape[0]\n",
        "train_size=m.floor(0.8*size)\n",
        "val_size=m.floor(0.1*size)\n",
        "train_data= data[: train_size] \n",
        "val_data = data[train_size: train_size+val_size ]\n",
        "test_data = data[train_size+val_size:]"
      ],
      "metadata": {
        "id": "F2O0noANzg7H"
      },
      "execution_count": 16,
      "outputs": []
    },
    {
      "cell_type": "code",
      "source": [
        "print('train:',train_data.shape)\n",
        "print('valid:',val_data.shape)\n",
        "print('test:',test_data.shape)"
      ],
      "metadata": {
        "colab": {
          "base_uri": "https://localhost:8080/"
        },
        "id": "-QshdxqiCM48",
        "outputId": "0f21530e-1c9d-4a3f-9fa4-c38ffc89d9ee"
      },
      "execution_count": 17,
      "outputs": [
        {
          "output_type": "stream",
          "name": "stdout",
          "text": [
            "train: (1564782, 45)\n",
            "valid: (195597, 45)\n",
            "test: (195599, 45)\n"
          ]
        }
      ]
    },
    {
      "cell_type": "code",
      "source": [
        "train_data"
      ],
      "metadata": {
        "colab": {
          "base_uri": "https://localhost:8080/"
        },
        "id": "M41T-TYPkCdd",
        "outputId": "74f52bfb-bf71-4208-b3f4-eb0edb65ce81"
      },
      "execution_count": 18,
      "outputs": [
        {
          "output_type": "execute_result",
          "data": {
            "text/plain": [
              "array([[0.0026064 , 0.17330815, 0.17557271, ..., 0.05821227, 0.95433888,\n",
              "        0.03049393],\n",
              "       [0.00267499, 0.17330559, 0.17619646, ..., 0.07515168, 0.96077376,\n",
              "        0.02924381],\n",
              "       [0.00602444, 0.17312497, 0.17535561, ..., 0.06402514, 0.94516068,\n",
              "        0.02313585],\n",
              "       ...,\n",
              "       [0.02942488, 0.33103486, 0.33080052, ..., 0.00640812, 0.99769746,\n",
              "        0.01035183],\n",
              "       [0.02381197, 0.33109846, 0.33054696, ..., 0.00441304, 0.99740093,\n",
              "        0.00722647],\n",
              "       [0.02163997, 0.33085193, 0.33034769, ..., 0.00335411, 0.99739958,\n",
              "        0.00834331]])"
            ]
          },
          "metadata": {},
          "execution_count": 18
        }
      ]
    },
    {
      "cell_type": "code",
      "source": [
        "pd.DataFrame(train_data[0:2])"
      ],
      "metadata": {
        "colab": {
          "base_uri": "https://localhost:8080/",
          "height": 141
        },
        "id": "pVfZL578phbw",
        "outputId": "7cafccc5-ed5d-46d0-c61c-d454eab7c092"
      },
      "execution_count": 19,
      "outputs": [
        {
          "output_type": "execute_result",
          "data": {
            "text/plain": [
              "         0         1         2         3         4         5         6   \\\n",
              "0  0.002606  0.173308  0.175573  0.171341  0.173519  0.003032  0.173158   \n",
              "1  0.002675  0.173306  0.176196  0.171566  0.173161  0.002984  0.173373   \n",
              "\n",
              "         7         8         9   ...        35        36        37        38  \\\n",
              "0  0.350256  0.034909  0.030483  ...  0.050884  0.173407  0.067223  0.946803   \n",
              "1  0.347877  0.037380  0.029230  ...  0.054430  0.173529  0.079247  0.948759   \n",
              "\n",
              "         39        40        41        42        43        44  \n",
              "0  0.030494  0.067223  0.946803  0.058212  0.954339  0.030494  \n",
              "1  0.029244  0.079247  0.948759  0.075152  0.960774  0.029244  \n",
              "\n",
              "[2 rows x 45 columns]"
            ],
            "text/html": [
              "\n",
              "  <div id=\"df-ff7115e7-eb45-4858-a420-7888be8c5c71\">\n",
              "    <div class=\"colab-df-container\">\n",
              "      <div>\n",
              "<style scoped>\n",
              "    .dataframe tbody tr th:only-of-type {\n",
              "        vertical-align: middle;\n",
              "    }\n",
              "\n",
              "    .dataframe tbody tr th {\n",
              "        vertical-align: top;\n",
              "    }\n",
              "\n",
              "    .dataframe thead th {\n",
              "        text-align: right;\n",
              "    }\n",
              "</style>\n",
              "<table border=\"1\" class=\"dataframe\">\n",
              "  <thead>\n",
              "    <tr style=\"text-align: right;\">\n",
              "      <th></th>\n",
              "      <th>0</th>\n",
              "      <th>1</th>\n",
              "      <th>2</th>\n",
              "      <th>3</th>\n",
              "      <th>4</th>\n",
              "      <th>5</th>\n",
              "      <th>6</th>\n",
              "      <th>7</th>\n",
              "      <th>8</th>\n",
              "      <th>9</th>\n",
              "      <th>...</th>\n",
              "      <th>35</th>\n",
              "      <th>36</th>\n",
              "      <th>37</th>\n",
              "      <th>38</th>\n",
              "      <th>39</th>\n",
              "      <th>40</th>\n",
              "      <th>41</th>\n",
              "      <th>42</th>\n",
              "      <th>43</th>\n",
              "      <th>44</th>\n",
              "    </tr>\n",
              "  </thead>\n",
              "  <tbody>\n",
              "    <tr>\n",
              "      <th>0</th>\n",
              "      <td>0.002606</td>\n",
              "      <td>0.173308</td>\n",
              "      <td>0.175573</td>\n",
              "      <td>0.171341</td>\n",
              "      <td>0.173519</td>\n",
              "      <td>0.003032</td>\n",
              "      <td>0.173158</td>\n",
              "      <td>0.350256</td>\n",
              "      <td>0.034909</td>\n",
              "      <td>0.030483</td>\n",
              "      <td>...</td>\n",
              "      <td>0.050884</td>\n",
              "      <td>0.173407</td>\n",
              "      <td>0.067223</td>\n",
              "      <td>0.946803</td>\n",
              "      <td>0.030494</td>\n",
              "      <td>0.067223</td>\n",
              "      <td>0.946803</td>\n",
              "      <td>0.058212</td>\n",
              "      <td>0.954339</td>\n",
              "      <td>0.030494</td>\n",
              "    </tr>\n",
              "    <tr>\n",
              "      <th>1</th>\n",
              "      <td>0.002675</td>\n",
              "      <td>0.173306</td>\n",
              "      <td>0.176196</td>\n",
              "      <td>0.171566</td>\n",
              "      <td>0.173161</td>\n",
              "      <td>0.002984</td>\n",
              "      <td>0.173373</td>\n",
              "      <td>0.347877</td>\n",
              "      <td>0.037380</td>\n",
              "      <td>0.029230</td>\n",
              "      <td>...</td>\n",
              "      <td>0.054430</td>\n",
              "      <td>0.173529</td>\n",
              "      <td>0.079247</td>\n",
              "      <td>0.948759</td>\n",
              "      <td>0.029244</td>\n",
              "      <td>0.079247</td>\n",
              "      <td>0.948759</td>\n",
              "      <td>0.075152</td>\n",
              "      <td>0.960774</td>\n",
              "      <td>0.029244</td>\n",
              "    </tr>\n",
              "  </tbody>\n",
              "</table>\n",
              "<p>2 rows × 45 columns</p>\n",
              "</div>\n",
              "      <button class=\"colab-df-convert\" onclick=\"convertToInteractive('df-ff7115e7-eb45-4858-a420-7888be8c5c71')\"\n",
              "              title=\"Convert this dataframe to an interactive table.\"\n",
              "              style=\"display:none;\">\n",
              "        \n",
              "  <svg xmlns=\"http://www.w3.org/2000/svg\" height=\"24px\"viewBox=\"0 0 24 24\"\n",
              "       width=\"24px\">\n",
              "    <path d=\"M0 0h24v24H0V0z\" fill=\"none\"/>\n",
              "    <path d=\"M18.56 5.44l.94 2.06.94-2.06 2.06-.94-2.06-.94-.94-2.06-.94 2.06-2.06.94zm-11 1L8.5 8.5l.94-2.06 2.06-.94-2.06-.94L8.5 2.5l-.94 2.06-2.06.94zm10 10l.94 2.06.94-2.06 2.06-.94-2.06-.94-.94-2.06-.94 2.06-2.06.94z\"/><path d=\"M17.41 7.96l-1.37-1.37c-.4-.4-.92-.59-1.43-.59-.52 0-1.04.2-1.43.59L10.3 9.45l-7.72 7.72c-.78.78-.78 2.05 0 2.83L4 21.41c.39.39.9.59 1.41.59.51 0 1.02-.2 1.41-.59l7.78-7.78 2.81-2.81c.8-.78.8-2.07 0-2.86zM5.41 20L4 18.59l7.72-7.72 1.47 1.35L5.41 20z\"/>\n",
              "  </svg>\n",
              "      </button>\n",
              "      \n",
              "  <style>\n",
              "    .colab-df-container {\n",
              "      display:flex;\n",
              "      flex-wrap:wrap;\n",
              "      gap: 12px;\n",
              "    }\n",
              "\n",
              "    .colab-df-convert {\n",
              "      background-color: #E8F0FE;\n",
              "      border: none;\n",
              "      border-radius: 50%;\n",
              "      cursor: pointer;\n",
              "      display: none;\n",
              "      fill: #1967D2;\n",
              "      height: 32px;\n",
              "      padding: 0 0 0 0;\n",
              "      width: 32px;\n",
              "    }\n",
              "\n",
              "    .colab-df-convert:hover {\n",
              "      background-color: #E2EBFA;\n",
              "      box-shadow: 0px 1px 2px rgba(60, 64, 67, 0.3), 0px 1px 3px 1px rgba(60, 64, 67, 0.15);\n",
              "      fill: #174EA6;\n",
              "    }\n",
              "\n",
              "    [theme=dark] .colab-df-convert {\n",
              "      background-color: #3B4455;\n",
              "      fill: #D2E3FC;\n",
              "    }\n",
              "\n",
              "    [theme=dark] .colab-df-convert:hover {\n",
              "      background-color: #434B5C;\n",
              "      box-shadow: 0px 1px 3px 1px rgba(0, 0, 0, 0.15);\n",
              "      filter: drop-shadow(0px 1px 2px rgba(0, 0, 0, 0.3));\n",
              "      fill: #FFFFFF;\n",
              "    }\n",
              "  </style>\n",
              "\n",
              "      <script>\n",
              "        const buttonEl =\n",
              "          document.querySelector('#df-ff7115e7-eb45-4858-a420-7888be8c5c71 button.colab-df-convert');\n",
              "        buttonEl.style.display =\n",
              "          google.colab.kernel.accessAllowed ? 'block' : 'none';\n",
              "\n",
              "        async function convertToInteractive(key) {\n",
              "          const element = document.querySelector('#df-ff7115e7-eb45-4858-a420-7888be8c5c71');\n",
              "          const dataTable =\n",
              "            await google.colab.kernel.invokeFunction('convertToInteractive',\n",
              "                                                     [key], {});\n",
              "          if (!dataTable) return;\n",
              "\n",
              "          const docLinkHtml = 'Like what you see? Visit the ' +\n",
              "            '<a target=\"_blank\" href=https://colab.research.google.com/notebooks/data_table.ipynb>data table notebook</a>'\n",
              "            + ' to learn more about interactive tables.';\n",
              "          element.innerHTML = '';\n",
              "          dataTable['output_type'] = 'display_data';\n",
              "          await google.colab.output.renderOutput(dataTable, element);\n",
              "          const docLink = document.createElement('div');\n",
              "          docLink.innerHTML = docLinkHtml;\n",
              "          element.appendChild(docLink);\n",
              "        }\n",
              "      </script>\n",
              "    </div>\n",
              "  </div>\n",
              "  "
            ]
          },
          "metadata": {},
          "execution_count": 19
        }
      ]
    },
    {
      "cell_type": "code",
      "source": [
        "def create_dataset(dataset, time_step=1):\n",
        "    dataX, dataY = [], []\n",
        "    for i in range(len(dataset)-time_step-1):  \n",
        "        dataX.append(dataset[i:(i+time_step)] )\n",
        "        dataY.append(dataset[i + time_step])\n",
        "    return np.array(dataX), np.array(dataY)"
      ],
      "metadata": {
        "id": "fM20SHtKtOPT"
      },
      "execution_count": 20,
      "outputs": []
    },
    {
      "cell_type": "markdown",
      "source": [
        "# It shows RAM full for below line so i could not execute further with the calculated features. I once executes with single feature the whole thing ran so ig its only RAM issue. "
      ],
      "metadata": {
        "id": "bi9YVnMA00VP"
      }
    },
    {
      "cell_type": "code",
      "source": [
        "train_X,train_Y = create_dataset(np.array(train_data),100)\n",
        "val_X,val_Y=create_dataset(np.array(val_data),100)\n",
        "test_X,test_Y=create_dataset(np.array(test_data),100)"
      ],
      "metadata": {
        "id": "l_9lkPV2tx6A"
      },
      "execution_count": null,
      "outputs": []
    },
    {
      "cell_type": "code",
      "source": [
        "print('train_X:',train_X.shape)\n",
        "print('validation_X:',val_X.shape)\n",
        "print('test_X:',test_X.shape)"
      ],
      "metadata": {
        "id": "1dXKsxOU916Z"
      },
      "execution_count": null,
      "outputs": []
    },
    {
      "cell_type": "markdown",
      "source": [
        "\n",
        "#**Model : Temporal CNN**"
      ],
      "metadata": {
        "id": "FE5X4RKRDz6C"
      }
    },
    {
      "cell_type": "code",
      "source": [
        "! pip install keras-tcn\n",
        "from tcn import TCN, tcn_full_summary"
      ],
      "metadata": {
        "id": "rsobaIJ0NNiW"
      },
      "execution_count": null,
      "outputs": []
    },
    {
      "cell_type": "code",
      "source": [
        "NB_FILTERS = 16\n",
        "DILATION = [2, 4, 8, 16]"
      ],
      "metadata": {
        "id": "NtP916sCR9yF"
      },
      "execution_count": null,
      "outputs": []
    },
    {
      "cell_type": "code",
      "source": [
        "from tensorflow.keras.layers import Lambda , Masking , GlobalAveragePooling1D, Dense\n",
        "from tensorflow.keras import Model, Sequential\n",
        "import tensorflow_probability as tfp\n",
        "# Concatenate , Add, GRU ,  Dropout, Input, Bidirectional, LSTM, Conv1D, Multiply\n",
        "def Correlation(y_true,y_pred): return tf.math.abs(tfp.stats.correlation(y_pred,y_true, sample_axis=None, event_axis=None))\n",
        "\n",
        "def masked_mae(y_true, y_pred):\n",
        "    mask = tf.math.not_equal(y_true, 0.)\n",
        "    y_true_masked = tf.boolean_mask(y_true, mask)\n",
        "    y_pred_masked = tf.boolean_mask(y_pred, mask)\n",
        "    return tf.keras.losses.mean_absolute_error(y_true = y_true_masked, y_pred = y_pred_masked)\n"
      ],
      "metadata": {
        "id": "EM0DrPLJDxhX"
      },
      "execution_count": null,
      "outputs": []
    },
    {
      "cell_type": "code",
      "source": [
        "def Model_TCN(activations):\n",
        "  tcn_layer = TCN(input_shape=(100, 1),return_sequences=True)\n",
        "  #print('Receptive field size =', tcn_layer.receptive_field\n",
        "  TCN_model= Sequential()\n",
        "  TCN_model.add(Masking(mask_value=0.0,input_shape=(100,1)))\n",
        "  TCN_model.add(tcn_layer)\n",
        "  TCN_model.add(Activation(activations[0]))\n",
        "  TCN_model.add(GlobalAveragePooling1D())\n",
        "  TCN_model.add(Dense(128))\n",
        "  TCN_model.add(Dense(64))\n",
        "  TCN_model.add(Dense(1))\n",
        "  TCN_model.compile(optimizer='adam', loss='mean_absolute_percentage_error', metrics= [Correlation, 'mean_absolute_percentage_error','mean_squared_error'])\n",
        "  return TCN_model"
      ],
      "metadata": {
        "id": "J_9V5RNkVeoO"
      },
      "execution_count": null,
      "outputs": []
    },
    {
      "cell_type": "code",
      "source": [
        "def train_and_test_model(activations,shapes,optimizers,i):\n",
        "  test_metrics={}\n",
        "  #checkpoint_path = \"/content/model_{}/cp-{epoch:04d}.hd5\".format(activations,epoch=0)\n",
        "  #checkpoint_dir = os.path.dirname(checkpoint_path)\n",
        "  #checkpoint=ModelCheckpoint(checkpoint_path.format(), monitor='val_mean_squared_error', verbose=0, save_best_only=False)\n",
        "  #early=EarlyStopping(monitor='val_mean_squared_error', min_delta=0, patience=10, verbose=0, mode='auto')\n",
        "  model=Model_TCN(activations) #,optimizer,activations\n",
        "  history=model.fit(x=train_X,y=train_Y,\n",
        "                    validation_data=(val_X,val_Y),\n",
        "                    epochs=5,batch_size=1024) #checkpoint,early,         \n",
        "  history = history.history\n",
        "  model_eval=model.evaluate(test_X,test_Y,return_dict=True)\n",
        "  p_test = model.predict(test_X)\n",
        "  y_test_ = test_Y\n",
        "  history.update({'activation_functions':len(history['val_mean_absolute_percentage_error'])*[activations],'epochs':list(range(1,len(history['val_mean_absolute_percentage_error'])+1))})\n",
        "  data_list_test.append([activations,model_eval['mean_absolute_percentage_error'],model_eval['mean_squared_error']])\n",
        "  del model\n",
        "  return history"
      ],
      "metadata": {
        "id": "tzKx_lKjyzT9"
      },
      "execution_count": null,
      "outputs": []
    },
    {
      "cell_type": "code",
      "source": [
        "shapes=[train_X.shape[1],train_X.shape[2]]\n",
        "activation_strs=['LeakyReLU','PReLU','sigmoid','softplus','softsign','ReLU',\n",
        "                  'gelu','selu','elu','tanh','gcu','swish',tfa.activations.mish,\n",
        "                  'nmcubic','shiftedquadratic','z2cosz','sin','shiftedsinc','dsu','mcubic']\n",
        "optimizer=tf.keras.optimizers.Adam(learning_rate=1e-3) #1e-4, 1e-5#\n",
        "i=0"
      ],
      "metadata": {
        "id": "YX0dJWGXy3pl"
      },
      "execution_count": null,
      "outputs": []
    },
    {
      "cell_type": "code",
      "source": [
        "data_list_test=[]\n",
        "data_list=[]\n",
        "i=0"
      ],
      "metadata": {
        "id": "c25N6q3ty68f"
      },
      "execution_count": null,
      "outputs": []
    },
    {
      "cell_type": "code",
      "source": [
        "while i<20:\n",
        "  print(\" Activation Layer : \",activation_strs[i])\n",
        "  activations=[activation_strs[i]]\n",
        "  times = []\n",
        "  history_ = train_and_test_model(activations,shapes,optimizer,i)\n",
        "  #history_.update({'time_taken_on_epoch':times})\n",
        "  data_list.append(pd.DataFrame(history_))\n",
        "  gc.collect()\n",
        "  i+=1"
      ],
      "metadata": {
        "id": "Ddf4aQpPzJ5N"
      },
      "execution_count": null,
      "outputs": []
    },
    {
      "cell_type": "code",
      "source": [
        "data = pd.concat(data_list)\n",
        "data_test = pd.DataFrame(data_list_test)"
      ],
      "metadata": {
        "id": "Dn7hHUPNzJwy"
      },
      "execution_count": null,
      "outputs": []
    },
    {
      "cell_type": "code",
      "source": [
        "data"
      ],
      "metadata": {
        "id": "gqBOS8KGcFV1"
      },
      "execution_count": null,
      "outputs": []
    },
    {
      "cell_type": "code",
      "source": [
        "data_test"
      ],
      "metadata": {
        "id": "FLaJMrvQcGxC"
      },
      "execution_count": null,
      "outputs": []
    },
    {
      "cell_type": "code",
      "source": [
        "data.to_csv('/content/Train_stats[GRESEARCH-TCN].csv',index=False)\n",
        "data_test.to_csv('/content/Test_stats[GRESEARCH-TCN].csv',index=False)"
      ],
      "metadata": {
        "id": "wSDz9GeEzSFz"
      },
      "execution_count": null,
      "outputs": []
    },
    {
      "cell_type": "code",
      "source": [
        ""
      ],
      "metadata": {
        "id": "0ODA7t3KdQKq"
      },
      "execution_count": null,
      "outputs": []
    }
  ]
}